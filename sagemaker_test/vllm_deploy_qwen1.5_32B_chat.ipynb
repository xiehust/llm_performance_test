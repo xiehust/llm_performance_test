{
 "cells": [
  {
   "cell_type": "markdown",
   "id": "71a329f0",
   "metadata": {},
   "source": [
    "# vLLM Qwen1.5-72B-Chat-AWQ vLLM deployment guide\n",
    "In this tutorial, you will use LMI container from DLC to SageMaker and run inference with it.\n",
    "\n",
    "Please make sure the following permission granted before running the notebook:\n",
    "\n",
    "- S3 bucket push access\n",
    "- SageMaker access\n",
    "\n",
    "## Step 1: Let's bump up SageMaker and import stuff"
   ]
  },
  {
   "cell_type": "code",
   "execution_count": 6,
   "id": "67fa3208",
   "metadata": {
    "tags": []
   },
   "outputs": [
    {
     "name": "stdout",
     "output_type": "stream",
     "text": [
      "Note: you may need to restart the kernel to use updated packages.\n",
      "Collecting boto3==1.34.101\n",
      "  Using cached boto3-1.34.101-py3-none-any.whl.metadata (6.6 kB)\n",
      "Collecting botocore<1.35.0,>=1.34.101 (from boto3==1.34.101)\n",
      "  Downloading botocore-1.34.113-py3-none-any.whl.metadata (5.7 kB)\n",
      "Requirement already satisfied: jmespath<2.0.0,>=0.7.1 in /opt/conda/lib/python3.10/site-packages (from boto3==1.34.101) (1.0.1)\n",
      "Requirement already satisfied: s3transfer<0.11.0,>=0.10.0 in /opt/conda/lib/python3.10/site-packages (from boto3==1.34.101) (0.10.1)\n",
      "Requirement already satisfied: python-dateutil<3.0.0,>=2.1 in /opt/conda/lib/python3.10/site-packages (from botocore<1.35.0,>=1.34.101->boto3==1.34.101) (2.9.0)\n",
      "Requirement already satisfied: urllib3!=2.2.0,<3,>=1.25.4 in /opt/conda/lib/python3.10/site-packages (from botocore<1.35.0,>=1.34.101->boto3==1.34.101) (1.26.18)\n",
      "Requirement already satisfied: six>=1.5 in /opt/conda/lib/python3.10/site-packages (from python-dateutil<3.0.0,>=2.1->botocore<1.35.0,>=1.34.101->boto3==1.34.101) (1.16.0)\n",
      "Using cached boto3-1.34.101-py3-none-any.whl (139 kB)\n",
      "Downloading botocore-1.34.113-py3-none-any.whl (12.3 MB)\n",
      "\u001b[2K   \u001b[90m━━━━━━━━━━━━━━━━━━━━━━━━━━━━━━━━━━━━━━━━\u001b[0m \u001b[32m12.3/12.3 MB\u001b[0m \u001b[31m89.4 MB/s\u001b[0m eta \u001b[36m0:00:00\u001b[0m:00:01\u001b[0m0:01\u001b[0m\n",
      "\u001b[?25hInstalling collected packages: botocore, boto3\n",
      "  Attempting uninstall: botocore\n",
      "    Found existing installation: botocore 1.34.51\n",
      "    Uninstalling botocore-1.34.51:\n",
      "      Successfully uninstalled botocore-1.34.51\n",
      "  Attempting uninstall: boto3\n",
      "    Found existing installation: boto3 1.34.51\n",
      "    Uninstalling boto3-1.34.51:\n",
      "      Successfully uninstalled boto3-1.34.51\n",
      "\u001b[31mERROR: pip's dependency resolver does not currently take into account all the packages that are installed. This behaviour is the source of the following dependency conflicts.\n",
      "aiobotocore 2.12.1 requires botocore<1.34.52,>=1.34.41, but you have botocore 1.34.113 which is incompatible.\n",
      "amazon-sagemaker-jupyter-scheduler 3.0.7 requires jupyter-scheduler==2.5, but you have jupyter-scheduler 2.5.1 which is incompatible.\u001b[0m\u001b[31m\n",
      "\u001b[0mSuccessfully installed boto3-1.34.101 botocore-1.34.113\n",
      "Note: you may need to restart the kernel to use updated packages.\n"
     ]
    }
   ],
   "source": [
    "%pip install sagemaker --upgrade  --quiet\n",
    "%pip install boto3==1.34.101"
   ]
  },
  {
   "cell_type": "code",
   "execution_count": 1,
   "id": "ec9ac353",
   "metadata": {
    "tags": []
   },
   "outputs": [
    {
     "name": "stdout",
     "output_type": "stream",
     "text": [
      "sagemaker.config INFO - Not applying SDK defaults from location: /etc/xdg/sagemaker/config.yaml\n",
      "sagemaker.config INFO - Not applying SDK defaults from location: /home/sagemaker-user/.config/sagemaker/config.yaml\n"
     ]
    }
   ],
   "source": [
    "import boto3\n",
    "import sagemaker\n",
    "from sagemaker import Model, image_uris, serializers, deserializers\n",
    "\n",
    "role = sagemaker.get_execution_role()  # execution role for the endpoint\n",
    "sess = sagemaker.session.Session()  # sagemaker session for interacting with different AWS APIs\n",
    "region = sess._region_name  # region name of the current SageMaker Studio environment\n",
    "account_id = sess.account_id()  # account_id of the current SageMaker Studio environment"
   ]
  },
  {
   "cell_type": "markdown",
   "id": "81deac79",
   "metadata": {},
   "source": [
    "## Step 2: Start preparing model artifacts\n",
    "In LMI contianer, we expect some artifacts to help setting up the model\n",
    "- serving.properties (required): Defines the model server settings\n",
    "- model.py (optional): A python file to define the core inference logic\n",
    "- requirements.txt (optional): Any additional pip wheel need to install"
   ]
  },
  {
   "cell_type": "code",
   "execution_count": 7,
   "id": "b011bf5f",
   "metadata": {
    "tags": []
   },
   "outputs": [
    {
     "name": "stdout",
     "output_type": "stream",
     "text": [
      "Writing serving.properties\n"
     ]
    }
   ],
   "source": [
    "%%writefile serving.properties\n",
    "engine=Python\n",
    "option.model_id=Qwen/Qwen1.5-32B-Chat\n",
    "option.task=text-generation\n",
    "option.trust_remote_code=true\n",
    "option.tensor_parallel_degree=4\n",
    "option.rolling_batch=vllm\n",
    "option.dtype=fp16\n",
    "option.max_rolling_batch_size=64\n",
    "option.max_model_len=4096"
   ]
  },
  {
   "cell_type": "code",
   "execution_count": 8,
   "id": "b0142973",
   "metadata": {
    "tags": []
   },
   "outputs": [
    {
     "name": "stdout",
     "output_type": "stream",
     "text": [
      "mymodel/\n",
      "mymodel/serving.properties\n"
     ]
    }
   ],
   "source": [
    "%%sh\n",
    "mkdir mymodel\n",
    "mv serving.properties mymodel/\n",
    "tar czvf mymodel.tar.gz mymodel/\n",
    "rm -rf mymodel"
   ]
  },
  {
   "cell_type": "markdown",
   "id": "2e58cf33",
   "metadata": {},
   "source": [
    "## Step 3: Start building SageMaker endpoint\n",
    "In this step, we will build SageMaker endpoint from scratch"
   ]
  },
  {
   "cell_type": "markdown",
   "id": "4d955679",
   "metadata": {},
   "source": [
    "### Getting the container image URI\n",
    "\n",
    "[Large Model Inference available DLC](https://github.com/aws/deep-learning-containers/blob/master/available_images.md#large-model-inference-containers)\n"
   ]
  },
  {
   "cell_type": "code",
   "execution_count": 9,
   "id": "7a174b36",
   "metadata": {
    "tags": []
   },
   "outputs": [],
   "source": [
    "image_uri = image_uris.retrieve(\n",
    "        framework=\"djl-deepspeed\",\n",
    "        region=sess.boto_session.region_name,\n",
    "        version=\"0.27.0\"\n",
    "    )"
   ]
  },
  {
   "cell_type": "markdown",
   "id": "11601839",
   "metadata": {},
   "source": [
    "### Upload artifact on S3 and create SageMaker model"
   ]
  },
  {
   "cell_type": "code",
   "execution_count": 10,
   "id": "38b1e5ca",
   "metadata": {
    "tags": []
   },
   "outputs": [
    {
     "name": "stdout",
     "output_type": "stream",
     "text": [
      "S3 Code or Model tar ball uploaded to --- > s3://sagemaker-us-east-1-434444145045/large-model-lmi/code-qwen1.5-32B/mymodel.tar.gz\n"
     ]
    }
   ],
   "source": [
    "s3_code_prefix = \"large-model-lmi/code-qwen1.5-32B\"\n",
    "bucket = sess.default_bucket()  # bucket to house artifacts\n",
    "code_artifact = sess.upload_data(\"mymodel.tar.gz\", bucket, s3_code_prefix)\n",
    "print(f\"S3 Code or Model tar ball uploaded to --- > {code_artifact}\")\n",
    "\n",
    "model = Model(image_uri=image_uri, model_data=code_artifact, role=role)"
   ]
  },
  {
   "cell_type": "markdown",
   "id": "004f39f6",
   "metadata": {},
   "source": [
    "### 4.2 Create SageMaker endpoint\n",
    "\n",
    "You need to specify the instance to use and endpoint names"
   ]
  },
  {
   "cell_type": "code",
   "execution_count": 11,
   "id": "8e0e61cd",
   "metadata": {
    "tags": []
   },
   "outputs": [
    {
     "name": "stdout",
     "output_type": "stream",
     "text": [
      "-------------!"
     ]
    }
   ],
   "source": [
    "instance_type = \"ml.g5.12xlarge\"\n",
    "endpoint_name = sagemaker.utils.name_from_base(\"lmi-model-qwen1-5-32B\")\n",
    "\n",
    "model.deploy(initial_instance_count=1,\n",
    "             instance_type=instance_type,\n",
    "             endpoint_name=endpoint_name,\n",
    "             # container_startup_health_check_timeout=3600\n",
    "            )\n",
    "\n"
   ]
  },
  {
   "cell_type": "code",
   "execution_count": 12,
   "id": "5e3421f4-12e5-4ec5-8b66-4ef1cc961c76",
   "metadata": {},
   "outputs": [
    {
     "name": "stdout",
     "output_type": "stream",
     "text": [
      "lmi-model-qwen1-5-32B-2024-05-27-05-58-12-934\n"
     ]
    }
   ],
   "source": [
    "# endpoint_name = 'lmi-model-qwen1-5-72B-2024-05-23-09-10-23-101'\n",
    "print(endpoint_name)"
   ]
  },
  {
   "cell_type": "code",
   "execution_count": 13,
   "id": "a8df35b4-886d-441c-98b2-0a3f96e02b08",
   "metadata": {},
   "outputs": [],
   "source": [
    "# our requests and responses will be in json format so we specify the serializer and the deserializer\n",
    "predictor = sagemaker.Predictor(\n",
    "    endpoint_name=endpoint_name,\n",
    "    sagemaker_session=sess,\n",
    "    serializer=serializers.JSONSerializer(),\n",
    "    deserializer=sagemaker.deserializers.JSONDeserializer(),\n",
    ")"
   ]
  },
  {
   "cell_type": "code",
   "execution_count": null,
   "id": "602f5040-ef47-48a5-89ee-24fb331450ef",
   "metadata": {},
   "outputs": [],
   "source": []
  },
  {
   "cell_type": "code",
   "execution_count": null,
   "id": "58db992c-1293-438d-a666-e0dbd8473a7d",
   "metadata": {},
   "outputs": [],
   "source": []
  },
  {
   "cell_type": "markdown",
   "id": "bb63ee65",
   "metadata": {},
   "source": [
    "## Step 5: Test and benchmark the inference"
   ]
  },
  {
   "cell_type": "code",
   "execution_count": 15,
   "id": "4ee11ce2-c488-42c5-89eb-df453878c245",
   "metadata": {
    "tags": []
   },
   "outputs": [
    {
     "name": "stdout",
     "output_type": "stream",
     "text": [
      "Requirement already satisfied: transformers in /opt/conda/lib/python3.10/site-packages (4.31.0)\n",
      "Collecting transformers\n",
      "  Using cached transformers-4.41.1-py3-none-any.whl.metadata (43 kB)\n",
      "Requirement already satisfied: filelock in /opt/conda/lib/python3.10/site-packages (from transformers) (3.13.3)\n",
      "Collecting huggingface-hub<1.0,>=0.23.0 (from transformers)\n",
      "  Using cached huggingface_hub-0.23.1-py3-none-any.whl.metadata (12 kB)\n",
      "Requirement already satisfied: numpy>=1.17 in /opt/conda/lib/python3.10/site-packages (from transformers) (1.26.4)\n",
      "Requirement already satisfied: packaging>=20.0 in /opt/conda/lib/python3.10/site-packages (from transformers) (23.2)\n",
      "Requirement already satisfied: pyyaml>=5.1 in /opt/conda/lib/python3.10/site-packages (from transformers) (6.0.1)\n",
      "Requirement already satisfied: regex!=2019.12.17 in /opt/conda/lib/python3.10/site-packages (from transformers) (2023.12.25)\n",
      "Requirement already satisfied: requests in /opt/conda/lib/python3.10/site-packages (from transformers) (2.31.0)\n",
      "Collecting tokenizers<0.20,>=0.19 (from transformers)\n",
      "  Using cached tokenizers-0.19.1-cp310-cp310-manylinux_2_17_x86_64.manylinux2014_x86_64.whl.metadata (6.7 kB)\n",
      "Requirement already satisfied: safetensors>=0.4.1 in /opt/conda/lib/python3.10/site-packages (from transformers) (0.4.2)\n",
      "Requirement already satisfied: tqdm>=4.27 in /opt/conda/lib/python3.10/site-packages (from transformers) (4.66.2)\n",
      "Requirement already satisfied: fsspec>=2023.5.0 in /opt/conda/lib/python3.10/site-packages (from huggingface-hub<1.0,>=0.23.0->transformers) (2023.6.0)\n",
      "Requirement already satisfied: typing-extensions>=3.7.4.3 in /opt/conda/lib/python3.10/site-packages (from huggingface-hub<1.0,>=0.23.0->transformers) (4.5.0)\n",
      "Requirement already satisfied: charset-normalizer<4,>=2 in /opt/conda/lib/python3.10/site-packages (from requests->transformers) (3.3.2)\n",
      "Requirement already satisfied: idna<4,>=2.5 in /opt/conda/lib/python3.10/site-packages (from requests->transformers) (3.6)\n",
      "Requirement already satisfied: urllib3<3,>=1.21.1 in /opt/conda/lib/python3.10/site-packages (from requests->transformers) (1.26.18)\n",
      "Requirement already satisfied: certifi>=2017.4.17 in /opt/conda/lib/python3.10/site-packages (from requests->transformers) (2024.2.2)\n",
      "Using cached transformers-4.41.1-py3-none-any.whl (9.1 MB)\n",
      "Using cached huggingface_hub-0.23.1-py3-none-any.whl (401 kB)\n",
      "Using cached tokenizers-0.19.1-cp310-cp310-manylinux_2_17_x86_64.manylinux2014_x86_64.whl (3.6 MB)\n",
      "Installing collected packages: huggingface-hub, tokenizers, transformers\n",
      "  Attempting uninstall: huggingface-hub\n",
      "    Found existing installation: huggingface_hub 0.22.0\n",
      "    Uninstalling huggingface_hub-0.22.0:\n",
      "      Successfully uninstalled huggingface_hub-0.22.0\n",
      "  Attempting uninstall: tokenizers\n",
      "    Found existing installation: tokenizers 0.13.3\n",
      "    Uninstalling tokenizers-0.13.3:\n",
      "      Successfully uninstalled tokenizers-0.13.3\n",
      "  Attempting uninstall: transformers\n",
      "    Found existing installation: transformers 4.31.0\n",
      "    Uninstalling transformers-4.31.0:\n",
      "      Successfully uninstalled transformers-4.31.0\n",
      "\u001b[31mERROR: pip's dependency resolver does not currently take into account all the packages that are installed. This behaviour is the source of the following dependency conflicts.\n",
      "autogluon-multimodal 0.8.2 requires transformers[sentencepiece]<4.32.0,>=4.31.0, but you have transformers 4.41.1 which is incompatible.\u001b[0m\u001b[31m\n",
      "\u001b[0mSuccessfully installed huggingface-hub-0.23.1 tokenizers-0.19.1 transformers-4.41.1\n"
     ]
    }
   ],
   "source": [
    "!pip install transformers -U"
   ]
  },
  {
   "cell_type": "code",
   "execution_count": 14,
   "id": "aaae61f7-b669-4a02-97a9-85085db6632c",
   "metadata": {
    "tags": []
   },
   "outputs": [
    {
     "data": {
      "application/vnd.jupyter.widget-view+json": {
       "model_id": "d39e7ce662ee4c6a9ffa3400e36406f1",
       "version_major": 2,
       "version_minor": 0
      },
      "text/plain": [
       "tokenizer_config.json:   0%|          | 0.00/1.29k [00:00<?, ?B/s]"
      ]
     },
     "metadata": {},
     "output_type": "display_data"
    },
    {
     "data": {
      "application/vnd.jupyter.widget-view+json": {
       "model_id": "2e8bd5145e0b45fea7fc4971285a3660",
       "version_major": 2,
       "version_minor": 0
      },
      "text/plain": [
       "vocab.json:   0%|          | 0.00/2.78M [00:00<?, ?B/s]"
      ]
     },
     "metadata": {},
     "output_type": "display_data"
    },
    {
     "data": {
      "application/vnd.jupyter.widget-view+json": {
       "model_id": "2fe5cdabe48f4e5ab71372ee34153679",
       "version_major": 2,
       "version_minor": 0
      },
      "text/plain": [
       "merges.txt:   0%|          | 0.00/1.67M [00:00<?, ?B/s]"
      ]
     },
     "metadata": {},
     "output_type": "display_data"
    },
    {
     "data": {
      "application/vnd.jupyter.widget-view+json": {
       "model_id": "4214618a05f24a78ab76e2fe0a927164",
       "version_major": 2,
       "version_minor": 0
      },
      "text/plain": [
       "tokenizer.json:   0%|          | 0.00/7.03M [00:00<?, ?B/s]"
      ]
     },
     "metadata": {},
     "output_type": "display_data"
    },
    {
     "name": "stderr",
     "output_type": "stream",
     "text": [
      "Special tokens have been added in the vocabulary, make sure the associated word embeddings are fine-tuned or trained.\n"
     ]
    }
   ],
   "source": [
    "from transformers import AutoTokenizer\n",
    "\n",
    "MODEL_DIR = \"Qwen/Qwen1.5-32B-Chat\"\n",
    "# model = AutoModelForCausalLM.from_pretrained(MODEL_DIR, torch_dtype=\"auto\")\n",
    "tokenizer = AutoTokenizer.from_pretrained(MODEL_DIR, use_fast=False)"
   ]
  },
  {
   "cell_type": "code",
   "execution_count": 15,
   "id": "2bcef095",
   "metadata": {
    "tags": []
   },
   "outputs": [
    {
     "name": "stdout",
     "output_type": "stream",
     "text": [
      "{'generated_text': '世界上第二高峰是乔戈里峰（K2），位于巴基斯坦和中国的边界上，海拔8,611米（28,251英尺）。它是世界上最高的未登顶山峰之一，以其严酷的登山条件而闻名。第一位成功登顶乔戈里峰的是意大利登山家雷纳托·卡斯特拉尼奥利和阿根廷登山家莫里斯·赫尔佐格，他们在1954年完成了这项壮举。'}\n"
     ]
    }
   ],
   "source": [
    "prompt = \"世界上第二高峰是哪座？\"\n",
    "messages = [\n",
    "    {\"role\": \"system\", \"content\": \"You are a helpful assistant.\"},\n",
    "    {\"role\": \"user\", \"content\": prompt}\n",
    "]\n",
    "inputs = tokenizer.apply_chat_template(\n",
    "    messages,\n",
    "    tokenize=False,\n",
    "    add_generation_prompt=True\n",
    ")\n",
    "parameters = {\n",
    "        \"max_new_tokens\":1024, \n",
    "        \"do_sample\": True,\n",
    "        \"stop_token_ids\":[151645,151643],\n",
    "        \"repetition_penalty\": 1.05,\n",
    "        \"temperature\": 0.7,\n",
    "        \"top_p\": 0.8,\n",
    "        \"top_k\": 20\n",
    "    }\n",
    "response = predictor.predict(\n",
    "    {\"inputs\": inputs, \"parameters\": parameters}\n",
    ")\n",
    "# text = str(response, \"utf-8\")\n",
    "print(response)"
   ]
  },
  {
   "cell_type": "markdown",
   "id": "95732e49-db07-4de2-ae1d-8ed96e95f056",
   "metadata": {},
   "source": [
    "# Streaming"
   ]
  },
  {
   "cell_type": "code",
   "execution_count": 23,
   "id": "11c67435-fc81-42ae-85c5-608a9eb0e366",
   "metadata": {
    "tags": []
   },
   "outputs": [],
   "source": [
    "import json\n",
    "import boto3\n",
    "\n",
    "smr_client = boto3.client(\"sagemaker-runtime\")"
   ]
  },
  {
   "cell_type": "code",
   "execution_count": 24,
   "id": "2cae82c8-c390-4d70-ac18-f1d71c852727",
   "metadata": {
    "tags": []
   },
   "outputs": [],
   "source": [
    "import io\n",
    "import json\n",
    "\n",
    "class TokenIterator:\n",
    "    def __init__(self, stream):\n",
    "        self.byte_iterator = iter(stream)\n",
    "        self.buffer = io.BytesIO()\n",
    "        self.read_pos = 0\n",
    "\n",
    "    def __iter__(self):\n",
    "        return self\n",
    "\n",
    "    def __next__(self):\n",
    "        while True:\n",
    "            self.buffer.seek(self.read_pos)\n",
    "            line = self.buffer.readline()\n",
    "            \n",
    "            # print(line)\n",
    "            if line and line[-1] == ord(\"\\n\"):\n",
    "                self.read_pos += len(line)\n",
    "                full_line = line[:-1].decode(\"utf-8\")\n",
    "                # print(full_line)\n",
    "                line_data = json.loads(full_line.lstrip(\"data:\").rstrip(\"/n\"))\n",
    "                return line_data[\"token\"].get(\"text\", \"\")\n",
    "            chunk = next(self.byte_iterator)\n",
    "            self.buffer.seek(0, io.SEEK_END)\n",
    "            self.buffer.write(chunk[\"PayloadPart\"][\"Bytes\"])\n",
    "        \n",
    "def get_realtime_response_stream(sagemaker_runtime, endpoint_name, payload):\n",
    "    response_stream = sagemaker_runtime.invoke_endpoint_with_response_stream(\n",
    "        EndpointName=endpoint_name,\n",
    "        Body=json.dumps(payload),\n",
    "        ContentType=\"application/json\",\n",
    "        CustomAttributes='accept_eula=false'\n",
    "    )\n",
    "    return response_stream"
   ]
  },
  {
   "cell_type": "code",
   "execution_count": 25,
   "id": "c16918d8-35d9-4b56-ad50-73f7ab858a1e",
   "metadata": {
    "tags": []
   },
   "outputs": [
    {
     "name": "stdout",
     "output_type": "stream",
     "text": [
      "世界第二高峰是乔戈里峰，又称K2峰，海拔8,611米，位于巴基斯坦和中国交界的喀喇昆仑山脉。"
     ]
    }
   ],
   "source": [
    "prompt = \"世界上第二高峰是哪座？\"\n",
    "messages = [\n",
    "    {\"role\": \"system\", \"content\": \"You are a helpful assistant.\"},\n",
    "    {\"role\": \"user\", \"content\": prompt}\n",
    "]\n",
    "inputs = tokenizer.apply_chat_template(\n",
    "    messages,\n",
    "    tokenize=False,\n",
    "    add_generation_prompt=True\n",
    ")\n",
    "\n",
    "parameters = {\n",
    "        \"max_new_tokens\":1024, \n",
    "        \"do_sample\": True,\n",
    "        \"stop_token_ids\":[151645,151643],\n",
    "        \"repetition_penalty\": 1.05,\n",
    "        \"temperature\": 0.7,\n",
    "        \"top_p\": 0.8,\n",
    "        \"top_k\": 20,\n",
    "    }\n",
    "\n",
    "payload = {\n",
    "    \"inputs\":  inputs,\n",
    "    \"parameters\": parameters,\n",
    "    \"stream\": True ## <-- to have response stream.\n",
    "}\n",
    "response_stream = get_realtime_response_stream(smr_client, endpoint_name, payload)\n",
    "# print_response_stream(response_stream)\n",
    "for token in TokenIterator(response_stream[\"Body\"]):\n",
    "    # pass\n",
    "    print(token, end=\"\")"
   ]
  },
  {
   "cell_type": "markdown",
   "id": "3479b15b-6b56-40d4-a0ed-15da2056a8b0",
   "metadata": {},
   "source": [
    "## Performance test"
   ]
  },
  {
   "cell_type": "code",
   "execution_count": 26,
   "id": "795f1ff9-3c21-48a7-b63a-571eabbd4a4c",
   "metadata": {},
   "outputs": [
    {
     "name": "stdout",
     "output_type": "stream",
     "text": [
      "Requirement already satisfied: langchain in /opt/conda/lib/python3.10/site-packages (0.1.9)\n",
      "Requirement already satisfied: PyYAML>=5.3 in /opt/conda/lib/python3.10/site-packages (from langchain) (6.0.1)\n",
      "Requirement already satisfied: SQLAlchemy<3,>=1.4 in /opt/conda/lib/python3.10/site-packages (from langchain) (1.4.49)\n",
      "Requirement already satisfied: aiohttp<4.0.0,>=3.8.3 in /opt/conda/lib/python3.10/site-packages (from langchain) (3.9.3)\n",
      "Requirement already satisfied: async-timeout<5.0.0,>=4.0.0 in /opt/conda/lib/python3.10/site-packages (from langchain) (4.0.3)\n",
      "Requirement already satisfied: dataclasses-json<0.7,>=0.5.7 in /opt/conda/lib/python3.10/site-packages (from langchain) (0.6.4)\n",
      "Requirement already satisfied: jsonpatch<2.0,>=1.33 in /opt/conda/lib/python3.10/site-packages (from langchain) (1.33)\n",
      "Requirement already satisfied: langchain-community<0.1,>=0.0.21 in /opt/conda/lib/python3.10/site-packages (from langchain) (0.0.29)\n",
      "Requirement already satisfied: langchain-core<0.2,>=0.1.26 in /opt/conda/lib/python3.10/site-packages (from langchain) (0.1.33)\n",
      "Requirement already satisfied: langsmith<0.2.0,>=0.1.0 in /opt/conda/lib/python3.10/site-packages (from langchain) (0.1.31)\n",
      "Requirement already satisfied: numpy<2,>=1 in /opt/conda/lib/python3.10/site-packages (from langchain) (1.26.4)\n",
      "Requirement already satisfied: pydantic<3,>=1 in /opt/conda/lib/python3.10/site-packages (from langchain) (1.10.14)\n",
      "Requirement already satisfied: requests<3,>=2 in /opt/conda/lib/python3.10/site-packages (from langchain) (2.31.0)\n",
      "Requirement already satisfied: tenacity<9.0.0,>=8.1.0 in /opt/conda/lib/python3.10/site-packages (from langchain) (8.2.3)\n",
      "Requirement already satisfied: aiosignal>=1.1.2 in /opt/conda/lib/python3.10/site-packages (from aiohttp<4.0.0,>=3.8.3->langchain) (1.3.1)\n",
      "Requirement already satisfied: attrs>=17.3.0 in /opt/conda/lib/python3.10/site-packages (from aiohttp<4.0.0,>=3.8.3->langchain) (23.2.0)\n",
      "Requirement already satisfied: frozenlist>=1.1.1 in /opt/conda/lib/python3.10/site-packages (from aiohttp<4.0.0,>=3.8.3->langchain) (1.4.1)\n",
      "Requirement already satisfied: multidict<7.0,>=4.5 in /opt/conda/lib/python3.10/site-packages (from aiohttp<4.0.0,>=3.8.3->langchain) (6.0.5)\n",
      "Requirement already satisfied: yarl<2.0,>=1.0 in /opt/conda/lib/python3.10/site-packages (from aiohttp<4.0.0,>=3.8.3->langchain) (1.9.4)\n",
      "Requirement already satisfied: marshmallow<4.0.0,>=3.18.0 in /opt/conda/lib/python3.10/site-packages (from dataclasses-json<0.7,>=0.5.7->langchain) (3.21.1)\n",
      "Requirement already satisfied: typing-inspect<1,>=0.4.0 in /opt/conda/lib/python3.10/site-packages (from dataclasses-json<0.7,>=0.5.7->langchain) (0.9.0)\n",
      "Requirement already satisfied: jsonpointer>=1.9 in /opt/conda/lib/python3.10/site-packages (from jsonpatch<2.0,>=1.33->langchain) (2.4)\n",
      "Requirement already satisfied: anyio<5,>=3 in /opt/conda/lib/python3.10/site-packages (from langchain-core<0.2,>=0.1.26->langchain) (3.7.1)\n",
      "Requirement already satisfied: packaging<24.0,>=23.2 in /opt/conda/lib/python3.10/site-packages (from langchain-core<0.2,>=0.1.26->langchain) (23.2)\n",
      "Requirement already satisfied: orjson<4.0.0,>=3.9.14 in /opt/conda/lib/python3.10/site-packages (from langsmith<0.2.0,>=0.1.0->langchain) (3.9.15)\n",
      "Requirement already satisfied: typing-extensions>=4.2.0 in /opt/conda/lib/python3.10/site-packages (from pydantic<3,>=1->langchain) (4.5.0)\n",
      "Requirement already satisfied: charset-normalizer<4,>=2 in /opt/conda/lib/python3.10/site-packages (from requests<3,>=2->langchain) (3.3.2)\n",
      "Requirement already satisfied: idna<4,>=2.5 in /opt/conda/lib/python3.10/site-packages (from requests<3,>=2->langchain) (3.6)\n",
      "Requirement already satisfied: urllib3<3,>=1.21.1 in /opt/conda/lib/python3.10/site-packages (from requests<3,>=2->langchain) (1.26.18)\n",
      "Requirement already satisfied: certifi>=2017.4.17 in /opt/conda/lib/python3.10/site-packages (from requests<3,>=2->langchain) (2024.2.2)\n",
      "Requirement already satisfied: greenlet!=0.4.17 in /opt/conda/lib/python3.10/site-packages (from SQLAlchemy<3,>=1.4->langchain) (3.0.3)\n",
      "Requirement already satisfied: sniffio>=1.1 in /opt/conda/lib/python3.10/site-packages (from anyio<5,>=3->langchain-core<0.2,>=0.1.26->langchain) (1.3.1)\n",
      "Requirement already satisfied: exceptiongroup in /opt/conda/lib/python3.10/site-packages (from anyio<5,>=3->langchain-core<0.2,>=0.1.26->langchain) (1.2.0)\n",
      "Requirement already satisfied: mypy-extensions>=0.3.0 in /opt/conda/lib/python3.10/site-packages (from typing-inspect<1,>=0.4.0->dataclasses-json<0.7,>=0.5.7->langchain) (1.0.0)\n",
      "Note: you may need to restart the kernel to use updated packages.\n"
     ]
    }
   ],
   "source": [
    "%pip install langchain"
   ]
  },
  {
   "cell_type": "code",
   "execution_count": 23,
   "id": "c07e9e5d-e63b-4964-9603-e8f749da2de3",
   "metadata": {},
   "outputs": [],
   "source": [
    "from langchain_core.runnables import RunnableLambda\n",
    "from langchain_core.runnables.config import RunnableConfig\n",
    "import time"
   ]
  },
  {
   "cell_type": "code",
   "execution_count": 24,
   "id": "b25bea7f-e16d-4a32-860f-b40e34534576",
   "metadata": {},
   "outputs": [],
   "source": [
    "text1 = \\\n",
    "\"\"\"你是一名小说家，热衷于创意写作和编写故事。 \n",
    "请帮我编写一个故事，对象是10-12岁的小学生\n",
    "故事背景：\n",
    "讲述一位名叫莉拉的年轻女子发现自己有控制天气的能力。她住在一个小镇上，每个人都互相认识。\n",
    "其他要求：\n",
    "-避免暴力，色情，粗俗的语言\n",
    "-长度要求不少于500字\n",
    "请开始：\n",
    "\"\"\""
   ]
  },
  {
   "cell_type": "code",
   "execution_count": 25,
   "id": "9627af8a-1106-42f9-9e83-4f57edd04edb",
   "metadata": {},
   "outputs": [],
   "source": [
    "max_new_tokens = 256\n",
    "def invoke_sagemaker(prompt,max_new_tokens):\n",
    "    # print('----start----')\n",
    "    messages = [\n",
    "    {\"role\": \"system\", \"content\": \"You are a helpful assistant.\"},\n",
    "    {\"role\": \"user\", \"content\": prompt}\n",
    "    ]\n",
    "    inputs = tokenizer.apply_chat_template(\n",
    "        messages,\n",
    "        tokenize=False,\n",
    "        add_generation_prompt=True\n",
    "    )\n",
    "    parameters = {\n",
    "            \"max_new_tokens\":max_new_tokens, \n",
    "            \"do_sample\": True,\n",
    "            \"stop_token_ids\":[151645,151643],\n",
    "            \"repetition_penalty\": 1.05,\n",
    "            \"temperature\": 0.7,\n",
    "            \"top_p\": 0.8,\n",
    "            \"top_k\": 250\n",
    "        }\n",
    "    t1 =  time.time()\n",
    "    response = predictor.predict(\n",
    "        {\"inputs\": inputs, \"parameters\": parameters}\n",
    "    )\n",
    "    t2 = time.time() - t1\n",
    "    return response['generated_text'],t2\n",
    "    "
   ]
  },
  {
   "cell_type": "code",
   "execution_count": 26,
   "id": "dd21a949-c860-4e7f-8f4c-deebdce9ef7c",
   "metadata": {},
   "outputs": [
    {
     "name": "stdout",
     "output_type": "stream",
     "text": [
      "Maximum value: 9\n",
      "Average value: 4.666666666666667\n",
      "Median value: 4.0\n",
      "p90_val value: 9\n"
     ]
    }
   ],
   "source": [
    "import math\n",
    "def list_stats(lst):\n",
    "    # Calculate the maximum value\n",
    "    max_val = max(lst)\n",
    "\n",
    "    # Calculate the average value\n",
    "    avg_val = sum(lst) / len(lst)\n",
    "\n",
    "    # Sort the list to find the median\n",
    "    sorted_lst = sorted(lst)\n",
    "    n = len(sorted_lst)\n",
    "    # Calculate the median value\n",
    "    if n % 2 == 0:\n",
    "        # If the list has an even number of elements\n",
    "        median_val = (sorted_lst[n // 2 - 1] + sorted_lst[n // 2]) / 2\n",
    "    else:\n",
    "        # If the list has an odd number of elements\n",
    "        median_val = sorted_lst[n // 2]\n",
    "\n",
    "    p90_index = int(math.ceil(0.9 * n)) - 1\n",
    "    p90_val = sorted_lst[p90_index]\n",
    "    \n",
    "    return max_val, avg_val, median_val,p90_val\n",
    "my_list = [5, 2, 8, 1, 9, 3]\n",
    "max_val, avg_val, median_val,p90_val = list_stats(my_list)\n",
    "print(\"Maximum value:\", max_val)\n",
    "print(\"Average value:\", avg_val)\n",
    "print(\"Median value:\", median_val)\n",
    "print(\"p90_val value:\", p90_val)"
   ]
  },
  {
   "cell_type": "code",
   "execution_count": 27,
   "id": "6b9c2a59-2a8a-4e0a-ac8a-cbcb4c676846",
   "metadata": {},
   "outputs": [],
   "source": [
    "chain = RunnableLambda(invoke_sagemaker).bind(max_new_tokens=max_new_tokens)"
   ]
  },
  {
   "cell_type": "code",
   "execution_count": 28,
   "id": "5a230a89-e588-4ca1-9705-ce3d8593ad38",
   "metadata": {},
   "outputs": [],
   "source": [
    "concurrent = [1,5,10,15,20,25,30,35,40,45,50]\n",
    "config = RunnableConfig(max_concurrency=max(concurrent))"
   ]
  },
  {
   "cell_type": "code",
   "execution_count": 29,
   "id": "a643fd23-3da0-4e07-8cf7-b3c42084c4e5",
   "metadata": {},
   "outputs": [
    {
     "name": "stdout",
     "output_type": "stream",
     "text": [
      "concurrent users:1, max time cost:11.21, average time cost:11.21, median cost:11.21, avg tokens/s:22.84,total avg throughput:22.84\n",
      "concurrent users:5, max time cost:13.13, average time cost:13.12, median cost:13.13, avg tokens/s:19.50,total avg throughput:97.52\n",
      "concurrent users:10, max time cost:15.32, average time cost:15.31, median cost:15.31, avg tokens/s:16.73,total avg throughput:167.25\n",
      "concurrent users:15, max time cost:16.08, average time cost:16.04, median cost:16.04, avg tokens/s:15.96,total avg throughput:239.43\n",
      "concurrent users:20, max time cost:17.78, average time cost:17.74, median cost:17.75, avg tokens/s:14.43,total avg throughput:288.63\n",
      "concurrent users:25, max time cost:19.71, average time cost:19.63, median cost:19.67, avg tokens/s:13.04,total avg throughput:325.99\n",
      "concurrent users:30, max time cost:20.49, average time cost:20.38, median cost:20.43, avg tokens/s:12.56,total avg throughput:376.78\n",
      "concurrent users:35, max time cost:22.27, average time cost:22.12, median cost:22.15, avg tokens/s:11.58,total avg throughput:405.13\n",
      "concurrent users:40, max time cost:23.07, average time cost:22.89, median cost:22.90, avg tokens/s:11.18,total avg throughput:447.29\n",
      "concurrent users:45, max time cost:24.67, average time cost:24.41, median cost:24.43, avg tokens/s:10.49,total avg throughput:471.86\n",
      "concurrent users:50, max time cost:25.89, average time cost:25.62, median cost:25.62, avg tokens/s:9.99,total avg throughput:499.66\n"
     ]
    }
   ],
   "source": [
    "results = []\n",
    "for n in concurrent:\n",
    "    res = chain.batch([text1]*n,config=config)\n",
    "    cost_lst = [ r[1] for r in res]\n",
    "    max_val, avg_val, median_val,p90_val = list_stats(cost_lst)\n",
    "    results.append([n,max_val, avg_val, median_val,p90_val,max_new_tokens/avg_val,n*max_new_tokens/avg_val])\n",
    "    print(f'concurrent users:{n}, max time cost:{max_val:.2f}, average time cost:{avg_val:.2f}, median cost:{median_val:.2f}, avg tokens/s:{max_new_tokens/avg_val:.2f},total avg throughput:{n*max_new_tokens/avg_val:.2f}')"
   ]
  },
  {
   "cell_type": "code",
   "execution_count": 30,
   "id": "9feeb03d-dcd8-4a40-8c2e-2b09f7a50d93",
   "metadata": {},
   "outputs": [
    {
     "data": {
      "text/html": [
       "<div>\n",
       "<style scoped>\n",
       "    .dataframe tbody tr th:only-of-type {\n",
       "        vertical-align: middle;\n",
       "    }\n",
       "\n",
       "    .dataframe tbody tr th {\n",
       "        vertical-align: top;\n",
       "    }\n",
       "\n",
       "    .dataframe thead th {\n",
       "        text-align: right;\n",
       "    }\n",
       "</style>\n",
       "<table border=\"1\" class=\"dataframe\">\n",
       "  <thead>\n",
       "    <tr style=\"text-align: right;\">\n",
       "      <th></th>\n",
       "      <th>currency</th>\n",
       "      <th>max_latency</th>\n",
       "      <th>avg_latency</th>\n",
       "      <th>p50_latency</th>\n",
       "      <th>p90_latency</th>\n",
       "      <th>avg_tokens/s</th>\n",
       "      <th>avg_throughput tokens/s</th>\n",
       "    </tr>\n",
       "  </thead>\n",
       "  <tbody>\n",
       "    <tr>\n",
       "      <th>0</th>\n",
       "      <td>1</td>\n",
       "      <td>11.206004</td>\n",
       "      <td>11.206004</td>\n",
       "      <td>11.206004</td>\n",
       "      <td>11.206004</td>\n",
       "      <td>22.844896</td>\n",
       "      <td>22.844896</td>\n",
       "    </tr>\n",
       "    <tr>\n",
       "      <th>1</th>\n",
       "      <td>5</td>\n",
       "      <td>13.131490</td>\n",
       "      <td>13.124916</td>\n",
       "      <td>13.125668</td>\n",
       "      <td>13.131490</td>\n",
       "      <td>19.504886</td>\n",
       "      <td>97.524432</td>\n",
       "    </tr>\n",
       "    <tr>\n",
       "      <th>2</th>\n",
       "      <td>10</td>\n",
       "      <td>15.319674</td>\n",
       "      <td>15.306413</td>\n",
       "      <td>15.309421</td>\n",
       "      <td>15.318305</td>\n",
       "      <td>16.725016</td>\n",
       "      <td>167.250157</td>\n",
       "    </tr>\n",
       "    <tr>\n",
       "      <th>3</th>\n",
       "      <td>15</td>\n",
       "      <td>16.079413</td>\n",
       "      <td>16.038188</td>\n",
       "      <td>16.040051</td>\n",
       "      <td>16.065656</td>\n",
       "      <td>15.961903</td>\n",
       "      <td>239.428546</td>\n",
       "    </tr>\n",
       "    <tr>\n",
       "      <th>4</th>\n",
       "      <td>20</td>\n",
       "      <td>17.784505</td>\n",
       "      <td>17.739076</td>\n",
       "      <td>17.750378</td>\n",
       "      <td>17.775345</td>\n",
       "      <td>14.431417</td>\n",
       "      <td>288.628335</td>\n",
       "    </tr>\n",
       "    <tr>\n",
       "      <th>5</th>\n",
       "      <td>25</td>\n",
       "      <td>19.711657</td>\n",
       "      <td>19.632519</td>\n",
       "      <td>19.665020</td>\n",
       "      <td>19.703991</td>\n",
       "      <td>13.039590</td>\n",
       "      <td>325.989755</td>\n",
       "    </tr>\n",
       "    <tr>\n",
       "      <th>6</th>\n",
       "      <td>30</td>\n",
       "      <td>20.489305</td>\n",
       "      <td>20.383372</td>\n",
       "      <td>20.425666</td>\n",
       "      <td>20.471979</td>\n",
       "      <td>12.559257</td>\n",
       "      <td>376.777708</td>\n",
       "    </tr>\n",
       "    <tr>\n",
       "      <th>7</th>\n",
       "      <td>35</td>\n",
       "      <td>22.271403</td>\n",
       "      <td>22.116204</td>\n",
       "      <td>22.149200</td>\n",
       "      <td>22.249286</td>\n",
       "      <td>11.575223</td>\n",
       "      <td>405.132821</td>\n",
       "    </tr>\n",
       "    <tr>\n",
       "      <th>8</th>\n",
       "      <td>40</td>\n",
       "      <td>23.074583</td>\n",
       "      <td>22.893529</td>\n",
       "      <td>22.902280</td>\n",
       "      <td>23.060176</td>\n",
       "      <td>11.182199</td>\n",
       "      <td>447.287974</td>\n",
       "    </tr>\n",
       "    <tr>\n",
       "      <th>9</th>\n",
       "      <td>45</td>\n",
       "      <td>24.667090</td>\n",
       "      <td>24.413986</td>\n",
       "      <td>24.425275</td>\n",
       "      <td>24.635606</td>\n",
       "      <td>10.485793</td>\n",
       "      <td>471.860676</td>\n",
       "    </tr>\n",
       "    <tr>\n",
       "      <th>10</th>\n",
       "      <td>50</td>\n",
       "      <td>25.887415</td>\n",
       "      <td>25.617444</td>\n",
       "      <td>25.618312</td>\n",
       "      <td>25.853217</td>\n",
       "      <td>9.993191</td>\n",
       "      <td>499.659536</td>\n",
       "    </tr>\n",
       "  </tbody>\n",
       "</table>\n",
       "</div>"
      ],
      "text/plain": [
       "    currency  max_latency  avg_latency  p50_latency  p90_latency  \\\n",
       "0          1    11.206004    11.206004    11.206004    11.206004   \n",
       "1          5    13.131490    13.124916    13.125668    13.131490   \n",
       "2         10    15.319674    15.306413    15.309421    15.318305   \n",
       "3         15    16.079413    16.038188    16.040051    16.065656   \n",
       "4         20    17.784505    17.739076    17.750378    17.775345   \n",
       "5         25    19.711657    19.632519    19.665020    19.703991   \n",
       "6         30    20.489305    20.383372    20.425666    20.471979   \n",
       "7         35    22.271403    22.116204    22.149200    22.249286   \n",
       "8         40    23.074583    22.893529    22.902280    23.060176   \n",
       "9         45    24.667090    24.413986    24.425275    24.635606   \n",
       "10        50    25.887415    25.617444    25.618312    25.853217   \n",
       "\n",
       "    avg_tokens/s  avg_throughput tokens/s  \n",
       "0      22.844896                22.844896  \n",
       "1      19.504886                97.524432  \n",
       "2      16.725016               167.250157  \n",
       "3      15.961903               239.428546  \n",
       "4      14.431417               288.628335  \n",
       "5      13.039590               325.989755  \n",
       "6      12.559257               376.777708  \n",
       "7      11.575223               405.132821  \n",
       "8      11.182199               447.287974  \n",
       "9      10.485793               471.860676  \n",
       "10      9.993191               499.659536  "
      ]
     },
     "execution_count": 30,
     "metadata": {},
     "output_type": "execute_result"
    }
   ],
   "source": [
    "import pandas as pd\n",
    "pd.DataFrame(results,columns=['currency','max_latency','avg_latency','p50_latency','p90_latency','avg_tokens/s','avg_throughput tokens/s'])"
   ]
  },
  {
   "cell_type": "code",
   "execution_count": 34,
   "id": "55e2dc09-760c-4450-b737-bbc734316f33",
   "metadata": {},
   "outputs": [],
   "source": [
    "import matplotlib.pyplot as plt"
   ]
  },
  {
   "cell_type": "code",
   "execution_count": 35,
   "id": "69b850ea-c79c-4871-9bc0-cf1a8a064bef",
   "metadata": {},
   "outputs": [],
   "source": [
    "# 从二维数组中提取列\n",
    "x = [row[0] for row in results]  \n",
    "y1 = [row[1] for row in results]  \n",
    "y2 = [row[2] for row in results]  \n",
    "y3 = [row[3] for row in results]  \n",
    "y4 = [row[4] for row in results]  \n",
    "y5 = [row[5] for row in results]  \n",
    "y6 = [row[6] for row in results]  "
   ]
  },
  {
   "cell_type": "code",
   "execution_count": 36,
   "id": "2a7070d5-ae76-4d76-8a33-032ce5daa80b",
   "metadata": {},
   "outputs": [
    {
     "data": {
      "image/png": "[encoded data removed]",
      "text/plain": [
       "<Figure size 800x1800 with 5 Axes>"
      ]
     },
     "metadata": {},
     "output_type": "display_data"
    }
   ],
   "source": [
    "# 创建图形\n",
    "fig, axs = plt.subplots(5, 1, figsize=(8, 18))\n",
    "\n",
    "# 绘制第avg timecost\n",
    "axs[0].plot(x, y2)\n",
    "axs[0].set_title('concurrency vs avg latency')\n",
    "axs[0].set_xlabel('concurrency')\n",
    "axs[0].set_ylabel('avg latency')\n",
    "\n",
    "# 绘制第一列与第三列的关系\n",
    "axs[1].plot(x, y3)\n",
    "axs[1].set_title('concurrency vs p50 latency')\n",
    "axs[1].set_xlabel('concurrency')\n",
    "axs[1].set_ylabel('p50 latency')\n",
    "\n",
    "# 绘制第一列与第四列的关系\n",
    "axs[2].plot(x, y4)\n",
    "axs[2].set_title('concurrency vs p90 latency')\n",
    "axs[2].set_xlabel('concurrency')\n",
    "axs[2].set_ylabel('p90 latency')\n",
    "\n",
    "# 绘制第一列与第四列的关系\n",
    "axs[3].plot(x, y5)\n",
    "axs[3].set_title('concurrency vs avg tokens/s')\n",
    "axs[3].set_xlabel('concurrency')\n",
    "axs[3].set_ylabel('avg tokens/s')\n",
    "\n",
    "\n",
    "# 绘制第一列与第四列的关系\n",
    "axs[4].plot(x, y6)\n",
    "axs[4].set_title('concurrency vs throughput tokens/s')\n",
    "axs[4].set_xlabel('concurrency')\n",
    "axs[4].set_ylabel('throughput tokens/s')\n",
    "\n",
    "# 调整子图之间的间距\n",
    "plt.subplots_adjust(hspace=0.5)\n",
    "\n",
    "# 显示图形\n",
    "plt.show()"
   ]
  },
  {
   "cell_type": "code",
   "execution_count": null,
   "id": "82f17c9b-f4a7-480c-a8cd-08dc2ea27d02",
   "metadata": {},
   "outputs": [],
   "source": []
  },
  {
   "cell_type": "code",
   "execution_count": null,
   "id": "32c0df92-1d03-48d4-b360-6ce668dd4dde",
   "metadata": {},
   "outputs": [],
   "source": []
  },
  {
   "cell_type": "code",
   "execution_count": null,
   "id": "d2b754e5-4873-40a0-b92b-d1770d99988e",
   "metadata": {},
   "outputs": [],
   "source": []
  },
  {
   "cell_type": "code",
   "execution_count": null,
   "id": "1dcc41e2-4967-4f5e-b08f-98f2d8cc5992",
   "metadata": {},
   "outputs": [],
   "source": []
  },
  {
   "cell_type": "markdown",
   "id": "c1cd9042",
   "metadata": {},
   "source": [
    "## Clean up the environment"
   ]
  },
  {
   "cell_type": "code",
   "execution_count": 37,
   "id": "3d674b41",
   "metadata": {
    "tags": []
   },
   "outputs": [],
   "source": [
    "sess.delete_endpoint(endpoint_name)\n",
    "sess.delete_endpoint_config(endpoint_name)\n",
    "model.delete_model()"
   ]
  },
  {
   "cell_type": "code",
   "execution_count": null,
   "id": "781462bd-3971-491a-bfa6-c6e5c9539932",
   "metadata": {},
   "outputs": [],
   "source": []
  }
 ],
 "metadata": {
  "kernelspec": {
   "display_name": "Python 3 (ipykernel)",
   "language": "python",
   "name": "python3"
  },
  "language_info": {
   "codemirror_mode": {
    "name": "ipython",
    "version": 3
   },
   "file_extension": ".py",
   "mimetype": "text/x-python",
   "name": "python",
   "nbconvert_exporter": "python",
   "pygments_lexer": "ipython3",
   "version": "3.10.14"
  }
 },
 "nbformat": 4,
 "nbformat_minor": 5
}
