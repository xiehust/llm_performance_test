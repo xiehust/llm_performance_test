{
 "cells": [
  {
   "cell_type": "markdown",
   "id": "0c162d68",
   "metadata": {},
   "source": [
    "# SageMaker JumpStart - invoke text generation endpoint"
   ]
  },
  {
   "cell_type": "markdown",
   "id": "ee1f300a",
   "metadata": {},
   "source": [
    "This notebook demonstrates how to attach a predictor to an existing endpoint name and invoke the endpoint with example payloads."
   ]
  },
  {
   "cell_type": "code",
   "execution_count": 1,
   "id": "ec029019",
   "metadata": {},
   "outputs": [
    {
     "name": "stdout",
     "output_type": "stream",
     "text": [
      "sagemaker.config INFO - Not applying SDK defaults from location: /etc/xdg/sagemaker/config.yaml\n",
      "sagemaker.config INFO - Not applying SDK defaults from location: /home/sagemaker-user/.config/sagemaker/config.yaml\n"
     ]
    }
   ],
   "source": [
    "from sagemaker.predictor import retrieve_default"
   ]
  },
  {
   "cell_type": "markdown",
   "id": "b2bc091d",
   "metadata": {},
   "source": [
    "Retrieve a predictor from your deployed endpoint name."
   ]
  },
  {
   "cell_type": "code",
   "execution_count": 2,
   "id": "cf3ea767",
   "metadata": {
    "collapsed": false,
    "jupyter": {
     "outputs_hidden": false
    },
    "tags": []
   },
   "outputs": [],
   "source": [
    "endpoint_name = \"jumpstart-dft-hf-llm-yi-1-5-9b-chat-20240527-022751\"\n",
    "predictor = retrieve_default(endpoint_name)"
   ]
  },
  {
   "cell_type": "markdown",
   "id": "df0b5100",
   "metadata": {},
   "source": [
    "Now query your endpoint with example payloads."
   ]
  },
  {
   "cell_type": "code",
   "execution_count": 3,
   "id": "11372dba",
   "metadata": {},
   "outputs": [
    {
     "name": "stdout",
     "output_type": "stream",
     "text": [
      "[{'generated_text': 'You are a helpful assistant.<|im_start|>user\\nWho won the world series in 2020?<|im_end|>\\n<|im_start|>assistant\\nThe Los Angeles Dodgers won the 2020 World Series. They defeated the Tampa Bay Rays in a best-of-seven series, clinching the championship in Game 6. This World Series was unique due to the COVID-19 pandemic, which led to an abbreviated 60-game regular season and the first virtual championship ceremony.'}]\n"
     ]
    }
   ],
   "source": [
    "payload = {\n",
    "    \"inputs\": \"You are a helpful assistant.<|im_start|>user\\nWho won the world series in 2020?<|im_end|>\\n<|im_start|>assistant\\n\",\n",
    "    \"parameters\": {\n",
    "        \"max_new_tokens\": 256\n",
    "    }\n",
    "}\n",
    "response = predictor.predict(payload)\n",
    "print(response)"
   ]
  },
  {
   "cell_type": "markdown",
   "id": "5ad1cd08",
   "metadata": {},
   "source": [
    "This model supports the following payload parameters. You may specify any subset of these parameters when invoking an endpoint.\n",
    "\n",
    "* **do_sample:** If True, activates logits sampling. If specified, it must be boolean.\n",
    "* **max_new_tokens:** Maximum number of generated tokens. If specified, it must be a positive integer.\n",
    "* **repetition_penalty:** A penalty for repetitive generated text. 1.0 means no penalty.\n",
    "* **return_full_text:** If True, input text will be part of the output generated text. If specified, it must be boolean. The default value for it is False.\n",
    "* **stop**: If specified, it must a list of strings. Text generation stops if any one of the specified strings is generated.\n",
    "* **seed**: Random sampling seed.\n",
    "* **temperature:** Controls the randomness in the output. Higher temperature results in output sequence with low-probability words and lower temperature results in output sequence with high-probability words. If `temperature` -> 0, it results in greedy decoding. If specified, it must be a positive float.\n",
    "* **top_k:** In each step of text generation, sample from only the `top_k` most likely words. If specified, it must be a positive integer.\n",
    "* **top_p:** In each step of text generation, sample from the smallest possible set of words with cumulative probability `top_p`. If specified, it must be a float between 0 and 1.\n",
    "* **truncate:** Truncate inputs tokens to the given size.\n",
    "* **typical_p:** Typical decoding mass, according to [Typical Decoding for Natural Language Generation](https://arxiv.org/abs/2202.00666).\n",
    "* **best_of:** Generate best_of sequences and return the one if the highest token logprobs.\n",
    "* **watermark:** Whether to perform watermarking with [A Watermark for Large Language Models](https://arxiv.org/abs/2301.10226).\n",
    "* **details:** Return generation details, to include output token logprobs and IDs.\n",
    "* **decoder_input_details:** Return decoder input token logprobs and IDs.\n",
    "* **top_n_tokens:** Return the N most likely tokens at each step."
   ]
  },
  {
   "cell_type": "code",
   "execution_count": 4,
   "id": "0a63021f-10df-429e-85ff-d73fb1e8ef77",
   "metadata": {},
   "outputs": [],
   "source": [
    "from langchain_core.runnables import RunnableLambda\n",
    "from langchain_core.runnables.config import RunnableConfig"
   ]
  },
  {
   "cell_type": "code",
   "execution_count": 5,
   "id": "e0264004-fc97-4f2d-be93-9a905022edf3",
   "metadata": {},
   "outputs": [],
   "source": [
    "text1 = \\\n",
    "\"\"\"你是一名小说家，热衷于创意写作和编写故事。 \n",
    "请帮我编写一个故事，对象是10-12岁的小学生\n",
    "故事背景：\n",
    "讲述一位名叫莉拉的年轻女子发现自己有控制天气的能力。她住在一个小镇上，每个人都互相认识。\n",
    "其他要求：\n",
    "-避免暴力，色情，粗俗的语言\n",
    "-长度要求不少于500字\n",
    "请开始：\n",
    "\"\"\""
   ]
  },
  {
   "cell_type": "code",
   "execution_count": 45,
   "id": "75abf14d-fe78-495f-8d47-0edcbf853d3f",
   "metadata": {},
   "outputs": [],
   "source": [
    "endpoint_name = \"jumpstart-dft-hf-llm-yi-1-5-9b-chat-20240527-022751\"\n",
    "predictor = retrieve_default(endpoint_name)\n",
    "max_new_tokens = 100\n",
    "text = \"Who won the world series in 2020?\"\n",
    "def invoke_sagemaker(prompt,max_new_tokens):\n",
    "    # print('----start----')\n",
    "    parameters = {\n",
    "            \"max_new_tokens\":max_new_tokens, \n",
    "            \"do_sample\": True,\n",
    "            \"temperature\": 0.7,\n",
    "            \"top_p\": 0.8,\n",
    "            \"top_k\": 250\n",
    "        }\n",
    "    payload = {\n",
    "        \"inputs\": f\"You are a helpful assistant.<|im_start|>user\\n{prompt}<|im_end|>\\n<|im_start|>assistant\\n\",\n",
    "        **parameters\n",
    "    }\n",
    "\n",
    "    response = predictor.predict( payload )\n",
    "    return response"
   ]
  },
  {
   "cell_type": "code",
   "execution_count": 46,
   "id": "5f5008d1-2800-4a96-9d58-8d71ffd7ba47",
   "metadata": {},
   "outputs": [
    {
     "data": {
      "text/plain": [
       "[{'generated_text': 'You are a helpful assistant.<|im_start|>user\\nWho won the world series in 2020?<|im_end|>\\n<|im_start|>assistant\\nThe Los Angeles Dodgers won the 2020 World Series, securing a 3-2 victory against the Tampa Bay Rays. This World Series was unique due to the COVID-19 pandemic, as it was the only one played without any fans in the stadiums.'}]"
      ]
     },
     "execution_count": 46,
     "metadata": {},
     "output_type": "execute_result"
    }
   ],
   "source": [
    "invoke_sagemaker(text,max_new_tokens)"
   ]
  },
  {
   "cell_type": "code",
   "execution_count": 47,
   "id": "0a99542a-4307-490a-a262-bbdc6a18fbb3",
   "metadata": {},
   "outputs": [],
   "source": [
    "chain = RunnableLambda(invoke_sagemaker).bind(max_new_tokens=max_new_tokens)"
   ]
  },
  {
   "cell_type": "markdown",
   "id": "306be4f4-9b87-42a0-b1d5-722301802953",
   "metadata": {},
   "source": [
    "# 测试并发性能"
   ]
  },
  {
   "cell_type": "code",
   "execution_count": 48,
   "id": "5b63c03d-d172-415e-ae50-2f859b15553c",
   "metadata": {},
   "outputs": [],
   "source": [
    "import time"
   ]
  },
  {
   "cell_type": "code",
   "execution_count": 49,
   "id": "80d79fd2-241d-4faf-85be-e7a83d19bbc4",
   "metadata": {},
   "outputs": [],
   "source": [
    "concurrent = [1,5,10,15,20,25]"
   ]
  },
  {
   "cell_type": "code",
   "execution_count": 50,
   "id": "3fbd5aff-cb49-41bb-a6dd-d3297eba00cc",
   "metadata": {},
   "outputs": [],
   "source": [
    "config = RunnableConfig(max_concurrency=max(concurrent))"
   ]
  },
  {
   "cell_type": "code",
   "execution_count": 51,
   "id": "5ff4d2ec-db3f-4f35-b240-2eaccc282f43",
   "metadata": {},
   "outputs": [],
   "source": [
    "results = []"
   ]
  },
  {
   "cell_type": "code",
   "execution_count": 52,
   "id": "b8e5b1b9-7d52-4c71-9fe4-7009d8a06fba",
   "metadata": {},
   "outputs": [
    {
     "name": "stdout",
     "output_type": "stream",
     "text": [
      "concurrent users:1, time cost:3.94,tokens/s:25.40,total throughput:25.40\n",
      "concurrent users:5, time cost:6.65,tokens/s:15.04,total throughput:75.20\n",
      "concurrent users:10, time cost:10.81,tokens/s:9.25,total throughput:92.55\n",
      "concurrent users:15, time cost:15.01,tokens/s:6.66,total throughput:99.94\n",
      "concurrent users:20, time cost:19.21,tokens/s:5.20,total throughput:104.09\n",
      "concurrent users:25, time cost:23.42,tokens/s:4.27,total throughput:106.74\n"
     ]
    }
   ],
   "source": [
    "for n in concurrent:\n",
    "    time1 = time.time()\n",
    "    chain.batch([text1]*n,config=config)\n",
    "    cost = time.time()-time1\n",
    "    results.append([n,cost,max_new_tokens/cost,n*max_new_tokens/cost])\n",
    "    print(f'concurrent users:{n}, time cost:{cost:.2f},tokens/s:{max_new_tokens/cost:.2f},total throughput:{n*max_new_tokens/cost:.2f}')"
   ]
  },
  {
   "cell_type": "code",
   "execution_count": 60,
   "id": "09fa58f2-fe77-4cd1-afa4-53c41f658e98",
   "metadata": {},
   "outputs": [
    {
     "data": {
      "text/plain": [
       "[[1, 3.937725067138672, 25.39537379958944, 25.39537379958944],\n",
       " [5, 6.649196624755859, 15.039410870733835, 75.19705435366917],\n",
       " [10, 10.805256843566895, 9.254754555837959, 92.54754555837958],\n",
       " [15, 15.009580373764038, 6.66241144054865, 99.93617160822974],\n",
       " [20, 19.214237928390503, 5.2044739100603294, 104.08947820120659],\n",
       " [25, 23.421430110931396, 4.269594107890422, 106.73985269726055]]"
      ]
     },
     "execution_count": 60,
     "metadata": {},
     "output_type": "execute_result"
    }
   ],
   "source": [
    "results"
   ]
  },
  {
   "cell_type": "code",
   "execution_count": 61,
   "id": "3aa11041-823b-4b56-befb-1ba5810bf3d9",
   "metadata": {},
   "outputs": [],
   "source": [
    "import matplotlib.pyplot as plt"
   ]
  },
  {
   "cell_type": "code",
   "execution_count": 62,
   "id": "f0e45764-f125-46d8-8d20-33394fd467eb",
   "metadata": {},
   "outputs": [],
   "source": [
    "# 从二维数组中提取列\n",
    "x = [row[0] for row in results]  # 第一列\n",
    "y1 = [row[1] for row in results]  # 第二列\n",
    "y2 = [row[2] for row in results]  # 第三列\n",
    "y3 = [row[3] for row in results]  # 第四列"
   ]
  },
  {
   "cell_type": "code",
   "execution_count": 66,
   "id": "d1844913-618f-4de5-9b57-ff78d64a6ec7",
   "metadata": {},
   "outputs": [
    {
     "data": {
      "image/png": "[encoded data removed]",
      "text/plain": [
       "<Figure size 800x600 with 3 Axes>"
      ]
     },
     "metadata": {},
     "output_type": "display_data"
    }
   ],
   "source": [
    "# 创建图形\n",
    "fig, axs = plt.subplots(3, 1, figsize=(8, 6))\n",
    "\n",
    "# 绘制第一列与第二列的关系\n",
    "axs[0].plot(x, y1)\n",
    "axs[0].set_title('concurrency vs timecost')\n",
    "axs[0].set_xlabel('concurrency')\n",
    "axs[0].set_ylabel('timecost')\n",
    "\n",
    "# 绘制第一列与第三列的关系\n",
    "axs[1].plot(x, y2)\n",
    "axs[1].set_title('concurrency vs tokens/s')\n",
    "axs[1].set_xlabel('concurrency')\n",
    "axs[1].set_ylabel('tokens/s')\n",
    "\n",
    "# 绘制第一列与第四列的关系\n",
    "axs[2].plot(x, y3)\n",
    "axs[2].set_title('concurrency vs throughput tokens/s')\n",
    "axs[2].set_xlabel('concurrency')\n",
    "axs[2].set_ylabel('throughput tokens/s')\n",
    "\n",
    "# 调整子图之间的间距\n",
    "plt.subplots_adjust(hspace=1)\n",
    "\n",
    "# 显示图形\n",
    "plt.show()"
   ]
  },
  {
   "cell_type": "code",
   "execution_count": null,
   "id": "6d52691a-0c7e-4b5e-90ce-dc5514237443",
   "metadata": {},
   "outputs": [],
   "source": []
  }
 ],
 "metadata": {
  "instance_type": "ml.t3.medium",
  "kernelspec": {
   "display_name": "Python 3 (ipykernel)",
   "language": "python",
   "name": "python3"
  },
  "language_info": {
   "codemirror_mode": {
    "name": "ipython",
    "version": 3
   },
   "file_extension": ".py",
   "mimetype": "text/x-python",
   "name": "python",
   "nbconvert_exporter": "python",
   "pygments_lexer": "ipython3",
   "version": "3.10.14"
  }
 },
 "nbformat": 4,
 "nbformat_minor": 5
}
