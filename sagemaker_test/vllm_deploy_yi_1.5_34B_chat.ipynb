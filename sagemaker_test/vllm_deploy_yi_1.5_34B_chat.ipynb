{
 "cells": [
  {
   "cell_type": "markdown",
   "id": "71a329f0",
   "metadata": {},
   "source": [
    "# vLLM Qwen1.5-72B-Chat-AWQ vLLM deployment guide\n",
    "In this tutorial, you will use LMI container from DLC to SageMaker and run inference with it.\n",
    "\n",
    "Please make sure the following permission granted before running the notebook:\n",
    "\n",
    "- S3 bucket push access\n",
    "- SageMaker access\n",
    "\n",
    "## Step 1: Let's bump up SageMaker and import stuff"
   ]
  },
  {
   "cell_type": "code",
   "execution_count": 6,
   "id": "67fa3208",
   "metadata": {
    "tags": []
   },
   "outputs": [
    {
     "name": "stdout",
     "output_type": "stream",
     "text": [
      "Note: you may need to restart the kernel to use updated packages.\n",
      "Collecting boto3==1.34.101\n",
      "  Using cached boto3-1.34.101-py3-none-any.whl.metadata (6.6 kB)\n",
      "Collecting botocore<1.35.0,>=1.34.101 (from boto3==1.34.101)\n",
      "  Downloading botocore-1.34.113-py3-none-any.whl.metadata (5.7 kB)\n",
      "Requirement already satisfied: jmespath<2.0.0,>=0.7.1 in /opt/conda/lib/python3.10/site-packages (from boto3==1.34.101) (1.0.1)\n",
      "Requirement already satisfied: s3transfer<0.11.0,>=0.10.0 in /opt/conda/lib/python3.10/site-packages (from boto3==1.34.101) (0.10.1)\n",
      "Requirement already satisfied: python-dateutil<3.0.0,>=2.1 in /opt/conda/lib/python3.10/site-packages (from botocore<1.35.0,>=1.34.101->boto3==1.34.101) (2.9.0)\n",
      "Requirement already satisfied: urllib3!=2.2.0,<3,>=1.25.4 in /opt/conda/lib/python3.10/site-packages (from botocore<1.35.0,>=1.34.101->boto3==1.34.101) (1.26.18)\n",
      "Requirement already satisfied: six>=1.5 in /opt/conda/lib/python3.10/site-packages (from python-dateutil<3.0.0,>=2.1->botocore<1.35.0,>=1.34.101->boto3==1.34.101) (1.16.0)\n",
      "Using cached boto3-1.34.101-py3-none-any.whl (139 kB)\n",
      "Downloading botocore-1.34.113-py3-none-any.whl (12.3 MB)\n",
      "\u001b[2K   \u001b[90m━━━━━━━━━━━━━━━━━━━━━━━━━━━━━━━━━━━━━━━━\u001b[0m \u001b[32m12.3/12.3 MB\u001b[0m \u001b[31m89.4 MB/s\u001b[0m eta \u001b[36m0:00:00\u001b[0m:00:01\u001b[0m0:01\u001b[0m\n",
      "\u001b[?25hInstalling collected packages: botocore, boto3\n",
      "  Attempting uninstall: botocore\n",
      "    Found existing installation: botocore 1.34.51\n",
      "    Uninstalling botocore-1.34.51:\n",
      "      Successfully uninstalled botocore-1.34.51\n",
      "  Attempting uninstall: boto3\n",
      "    Found existing installation: boto3 1.34.51\n",
      "    Uninstalling boto3-1.34.51:\n",
      "      Successfully uninstalled boto3-1.34.51\n",
      "\u001b[31mERROR: pip's dependency resolver does not currently take into account all the packages that are installed. This behaviour is the source of the following dependency conflicts.\n",
      "aiobotocore 2.12.1 requires botocore<1.34.52,>=1.34.41, but you have botocore 1.34.113 which is incompatible.\n",
      "amazon-sagemaker-jupyter-scheduler 3.0.7 requires jupyter-scheduler==2.5, but you have jupyter-scheduler 2.5.1 which is incompatible.\u001b[0m\u001b[31m\n",
      "\u001b[0mSuccessfully installed boto3-1.34.101 botocore-1.34.113\n",
      "Note: you may need to restart the kernel to use updated packages.\n"
     ]
    }
   ],
   "source": [
    "%pip install sagemaker --upgrade  --quiet\n",
    "%pip install boto3==1.34.101"
   ]
  },
  {
   "cell_type": "code",
   "execution_count": 1,
   "id": "ec9ac353",
   "metadata": {
    "tags": []
   },
   "outputs": [
    {
     "name": "stdout",
     "output_type": "stream",
     "text": [
      "sagemaker.config INFO - Not applying SDK defaults from location: /etc/xdg/sagemaker/config.yaml\n",
      "sagemaker.config INFO - Not applying SDK defaults from location: /home/sagemaker-user/.config/sagemaker/config.yaml\n"
     ]
    }
   ],
   "source": [
    "import boto3\n",
    "import sagemaker\n",
    "from sagemaker import Model, image_uris, serializers, deserializers\n",
    "\n",
    "role = sagemaker.get_execution_role()  # execution role for the endpoint\n",
    "sess = sagemaker.session.Session()  # sagemaker session for interacting with different AWS APIs\n",
    "region = sess._region_name  # region name of the current SageMaker Studio environment\n",
    "account_id = sess.account_id()  # account_id of the current SageMaker Studio environment"
   ]
  },
  {
   "cell_type": "markdown",
   "id": "81deac79",
   "metadata": {},
   "source": [
    "## Step 2: Start preparing model artifacts\n",
    "In LMI contianer, we expect some artifacts to help setting up the model\n",
    "- serving.properties (required): Defines the model server settings\n",
    "- model.py (optional): A python file to define the core inference logic\n",
    "- requirements.txt (optional): Any additional pip wheel need to install"
   ]
  },
  {
   "cell_type": "code",
   "execution_count": 30,
   "id": "b011bf5f",
   "metadata": {
    "tags": []
   },
   "outputs": [
    {
     "name": "stdout",
     "output_type": "stream",
     "text": [
      "Writing serving.properties\n"
     ]
    }
   ],
   "source": [
    "%%writefile serving.properties\n",
    "engine=Python\n",
    "option.model_id=01-ai/Yi-1.5-34B-Chat\n",
    "option.task=text-generation\n",
    "option.trust_remote_code=true\n",
    "option.tensor_parallel_degree=4\n",
    "option.rolling_batch=vllm\n",
    "option.dtype=fp16\n",
    "option.max_rolling_batch_size=32\n",
    "option.max_model_len=4096"
   ]
  },
  {
   "cell_type": "code",
   "execution_count": 31,
   "id": "b0142973",
   "metadata": {
    "tags": []
   },
   "outputs": [
    {
     "name": "stdout",
     "output_type": "stream",
     "text": [
      "mymodel/\n",
      "mymodel/serving.properties\n"
     ]
    }
   ],
   "source": [
    "%%sh\n",
    "mkdir mymodel\n",
    "mv serving.properties mymodel/\n",
    "tar czvf mymodel.tar.gz mymodel/\n",
    "rm -rf mymodel"
   ]
  },
  {
   "cell_type": "markdown",
   "id": "2e58cf33",
   "metadata": {},
   "source": [
    "## Step 3: Start building SageMaker endpoint\n",
    "In this step, we will build SageMaker endpoint from scratch"
   ]
  },
  {
   "cell_type": "markdown",
   "id": "4d955679",
   "metadata": {},
   "source": [
    "### Getting the container image URI\n",
    "\n",
    "[Large Model Inference available DLC](https://github.com/aws/deep-learning-containers/blob/master/available_images.md#large-model-inference-containers)\n"
   ]
  },
  {
   "cell_type": "code",
   "execution_count": 32,
   "id": "7a174b36",
   "metadata": {
    "tags": []
   },
   "outputs": [],
   "source": [
    "image_uri = image_uris.retrieve(\n",
    "        framework=\"djl-deepspeed\",\n",
    "        region=sess.boto_session.region_name,\n",
    "        version=\"0.27.0\"\n",
    "    )"
   ]
  },
  {
   "cell_type": "markdown",
   "id": "11601839",
   "metadata": {},
   "source": [
    "### Upload artifact on S3 and create SageMaker model"
   ]
  },
  {
   "cell_type": "code",
   "execution_count": 33,
   "id": "38b1e5ca",
   "metadata": {
    "tags": []
   },
   "outputs": [
    {
     "name": "stdout",
     "output_type": "stream",
     "text": [
      "S3 Code or Model tar ball uploaded to --- > s3://sagemaker-us-east-1-434444145045/large-model-lmi/code-yi1.5-34B/mymodel.tar.gz\n"
     ]
    }
   ],
   "source": [
    "s3_code_prefix = \"large-model-lmi/code-yi1.5-34B\"\n",
    "bucket = sess.default_bucket()  # bucket to house artifacts\n",
    "code_artifact = sess.upload_data(\"mymodel.tar.gz\", bucket, s3_code_prefix)\n",
    "print(f\"S3 Code or Model tar ball uploaded to --- > {code_artifact}\")\n",
    "\n",
    "model = Model(image_uri=image_uri, model_data=code_artifact, role=role)"
   ]
  },
  {
   "cell_type": "markdown",
   "id": "004f39f6",
   "metadata": {},
   "source": [
    "### 4.2 Create SageMaker endpoint\n",
    "\n",
    "You need to specify the instance to use and endpoint names"
   ]
  },
  {
   "cell_type": "code",
   "execution_count": 34,
   "id": "8e0e61cd",
   "metadata": {
    "tags": []
   },
   "outputs": [
    {
     "name": "stdout",
     "output_type": "stream",
     "text": [
      "-------------!"
     ]
    }
   ],
   "source": [
    "instance_type = \"ml.g5.12xlarge\"\n",
    "endpoint_name = sagemaker.utils.name_from_base(\"lmi-model-yi15-34B\")\n",
    "\n",
    "model.deploy(initial_instance_count=1,\n",
    "             instance_type=instance_type,\n",
    "             endpoint_name=endpoint_name,\n",
    "             # container_startup_health_check_timeout=3600\n",
    "            )\n",
    "\n"
   ]
  },
  {
   "cell_type": "code",
   "execution_count": 35,
   "id": "5e3421f4-12e5-4ec5-8b66-4ef1cc961c76",
   "metadata": {},
   "outputs": [
    {
     "name": "stdout",
     "output_type": "stream",
     "text": [
      "lmi-model-yi15-34B-2024-05-27-06-44-15-037\n"
     ]
    }
   ],
   "source": [
    "# endpoint_name = 'lmi-model-qwen1-5-72B-2024-05-23-09-10-23-101'\n",
    "print(endpoint_name)"
   ]
  },
  {
   "cell_type": "code",
   "execution_count": 36,
   "id": "a8df35b4-886d-441c-98b2-0a3f96e02b08",
   "metadata": {},
   "outputs": [],
   "source": [
    "# our requests and responses will be in json format so we specify the serializer and the deserializer\n",
    "predictor = sagemaker.Predictor(\n",
    "    endpoint_name=endpoint_name,\n",
    "    sagemaker_session=sess,\n",
    "    serializer=serializers.JSONSerializer(),\n",
    "    deserializer=sagemaker.deserializers.JSONDeserializer(),\n",
    ")"
   ]
  },
  {
   "cell_type": "code",
   "execution_count": null,
   "id": "602f5040-ef47-48a5-89ee-24fb331450ef",
   "metadata": {},
   "outputs": [],
   "source": []
  },
  {
   "cell_type": "code",
   "execution_count": null,
   "id": "58db992c-1293-438d-a666-e0dbd8473a7d",
   "metadata": {},
   "outputs": [],
   "source": []
  },
  {
   "cell_type": "markdown",
   "id": "bb63ee65",
   "metadata": {},
   "source": [
    "## Step 5: Test and benchmark the inference"
   ]
  },
  {
   "cell_type": "markdown",
   "id": "3479b15b-6b56-40d4-a0ed-15da2056a8b0",
   "metadata": {},
   "source": [
    "## Performance test"
   ]
  },
  {
   "cell_type": "code",
   "execution_count": 26,
   "id": "795f1ff9-3c21-48a7-b63a-571eabbd4a4c",
   "metadata": {},
   "outputs": [
    {
     "name": "stdout",
     "output_type": "stream",
     "text": [
      "Requirement already satisfied: langchain in /opt/conda/lib/python3.10/site-packages (0.1.9)\n",
      "Requirement already satisfied: PyYAML>=5.3 in /opt/conda/lib/python3.10/site-packages (from langchain) (6.0.1)\n",
      "Requirement already satisfied: SQLAlchemy<3,>=1.4 in /opt/conda/lib/python3.10/site-packages (from langchain) (1.4.49)\n",
      "Requirement already satisfied: aiohttp<4.0.0,>=3.8.3 in /opt/conda/lib/python3.10/site-packages (from langchain) (3.9.3)\n",
      "Requirement already satisfied: async-timeout<5.0.0,>=4.0.0 in /opt/conda/lib/python3.10/site-packages (from langchain) (4.0.3)\n",
      "Requirement already satisfied: dataclasses-json<0.7,>=0.5.7 in /opt/conda/lib/python3.10/site-packages (from langchain) (0.6.4)\n",
      "Requirement already satisfied: jsonpatch<2.0,>=1.33 in /opt/conda/lib/python3.10/site-packages (from langchain) (1.33)\n",
      "Requirement already satisfied: langchain-community<0.1,>=0.0.21 in /opt/conda/lib/python3.10/site-packages (from langchain) (0.0.29)\n",
      "Requirement already satisfied: langchain-core<0.2,>=0.1.26 in /opt/conda/lib/python3.10/site-packages (from langchain) (0.1.33)\n",
      "Requirement already satisfied: langsmith<0.2.0,>=0.1.0 in /opt/conda/lib/python3.10/site-packages (from langchain) (0.1.31)\n",
      "Requirement already satisfied: numpy<2,>=1 in /opt/conda/lib/python3.10/site-packages (from langchain) (1.26.4)\n",
      "Requirement already satisfied: pydantic<3,>=1 in /opt/conda/lib/python3.10/site-packages (from langchain) (1.10.14)\n",
      "Requirement already satisfied: requests<3,>=2 in /opt/conda/lib/python3.10/site-packages (from langchain) (2.31.0)\n",
      "Requirement already satisfied: tenacity<9.0.0,>=8.1.0 in /opt/conda/lib/python3.10/site-packages (from langchain) (8.2.3)\n",
      "Requirement already satisfied: aiosignal>=1.1.2 in /opt/conda/lib/python3.10/site-packages (from aiohttp<4.0.0,>=3.8.3->langchain) (1.3.1)\n",
      "Requirement already satisfied: attrs>=17.3.0 in /opt/conda/lib/python3.10/site-packages (from aiohttp<4.0.0,>=3.8.3->langchain) (23.2.0)\n",
      "Requirement already satisfied: frozenlist>=1.1.1 in /opt/conda/lib/python3.10/site-packages (from aiohttp<4.0.0,>=3.8.3->langchain) (1.4.1)\n",
      "Requirement already satisfied: multidict<7.0,>=4.5 in /opt/conda/lib/python3.10/site-packages (from aiohttp<4.0.0,>=3.8.3->langchain) (6.0.5)\n",
      "Requirement already satisfied: yarl<2.0,>=1.0 in /opt/conda/lib/python3.10/site-packages (from aiohttp<4.0.0,>=3.8.3->langchain) (1.9.4)\n",
      "Requirement already satisfied: marshmallow<4.0.0,>=3.18.0 in /opt/conda/lib/python3.10/site-packages (from dataclasses-json<0.7,>=0.5.7->langchain) (3.21.1)\n",
      "Requirement already satisfied: typing-inspect<1,>=0.4.0 in /opt/conda/lib/python3.10/site-packages (from dataclasses-json<0.7,>=0.5.7->langchain) (0.9.0)\n",
      "Requirement already satisfied: jsonpointer>=1.9 in /opt/conda/lib/python3.10/site-packages (from jsonpatch<2.0,>=1.33->langchain) (2.4)\n",
      "Requirement already satisfied: anyio<5,>=3 in /opt/conda/lib/python3.10/site-packages (from langchain-core<0.2,>=0.1.26->langchain) (3.7.1)\n",
      "Requirement already satisfied: packaging<24.0,>=23.2 in /opt/conda/lib/python3.10/site-packages (from langchain-core<0.2,>=0.1.26->langchain) (23.2)\n",
      "Requirement already satisfied: orjson<4.0.0,>=3.9.14 in /opt/conda/lib/python3.10/site-packages (from langsmith<0.2.0,>=0.1.0->langchain) (3.9.15)\n",
      "Requirement already satisfied: typing-extensions>=4.2.0 in /opt/conda/lib/python3.10/site-packages (from pydantic<3,>=1->langchain) (4.5.0)\n",
      "Requirement already satisfied: charset-normalizer<4,>=2 in /opt/conda/lib/python3.10/site-packages (from requests<3,>=2->langchain) (3.3.2)\n",
      "Requirement already satisfied: idna<4,>=2.5 in /opt/conda/lib/python3.10/site-packages (from requests<3,>=2->langchain) (3.6)\n",
      "Requirement already satisfied: urllib3<3,>=1.21.1 in /opt/conda/lib/python3.10/site-packages (from requests<3,>=2->langchain) (1.26.18)\n",
      "Requirement already satisfied: certifi>=2017.4.17 in /opt/conda/lib/python3.10/site-packages (from requests<3,>=2->langchain) (2024.2.2)\n",
      "Requirement already satisfied: greenlet!=0.4.17 in /opt/conda/lib/python3.10/site-packages (from SQLAlchemy<3,>=1.4->langchain) (3.0.3)\n",
      "Requirement already satisfied: sniffio>=1.1 in /opt/conda/lib/python3.10/site-packages (from anyio<5,>=3->langchain-core<0.2,>=0.1.26->langchain) (1.3.1)\n",
      "Requirement already satisfied: exceptiongroup in /opt/conda/lib/python3.10/site-packages (from anyio<5,>=3->langchain-core<0.2,>=0.1.26->langchain) (1.2.0)\n",
      "Requirement already satisfied: mypy-extensions>=0.3.0 in /opt/conda/lib/python3.10/site-packages (from typing-inspect<1,>=0.4.0->dataclasses-json<0.7,>=0.5.7->langchain) (1.0.0)\n",
      "Note: you may need to restart the kernel to use updated packages.\n"
     ]
    }
   ],
   "source": [
    "%pip install langchain"
   ]
  },
  {
   "cell_type": "code",
   "execution_count": 37,
   "id": "624b8c2f-6047-41bd-a75a-c13552dd5ca3",
   "metadata": {},
   "outputs": [
    {
     "name": "stdout",
     "output_type": "stream",
     "text": [
      "\"<|im_start|>user\\n世界上第二高的山峰是哪座<|im_end|>\\n<|im_start|>assistant\\n世界上第二高的山峰是中国的珠穆朗玛峰。珠穆朗玛峰位于中国西藏自治区南部边境与尼泊尔交界的喜马拉雅山脉中，海拔高度为8848.86米（29,029英尺）。它是世界上海拔最高的山脉，同时也是中国大陆的最高峰。\\\\n\\\\n珠穆朗玛峰的名字来源于藏语，“珠穆”意为女神，“朗玛”意为母仪天下，整体意为“大地之母”。这座山峰不仅在登山界享有盛誉，也是全球登山爱好者和探险<|im_end|>\\n<|im_start|>user\\n一个句子总结<|im_end|>\\n<|im_start|>assistant\\n\"\n"
     ]
    }
   ],
   "source": [
    "from transformers import AutoTokenizer\n",
    "\n",
    "MODEL_DIR = '01-ai/Yi-1.5-34B-Chat'\n",
    "# model = AutoModelForCausalLM.from_pretrained(MODEL_DIR, torch_dtype=\"auto\")\n",
    "tokenizer = AutoTokenizer.from_pretrained(MODEL_DIR, use_fast=False)\n",
    "\n",
    "import json\n",
    "messages = [\n",
    "    {\"role\": \"user\", \"content\": \"世界上第二高的山峰是哪座\"},\n",
    "    {\"role\": \"assistant\", \"content\": \"世界上第二高的山峰是中国的珠穆朗玛峰。珠穆朗玛峰位于中国西藏自治区南部边境与尼泊尔交界的喜马拉雅山脉中，海拔高度为8848.86米（29,029英尺）。它是世界上海拔最高的山脉，同时也是中国大陆的最高峰。\\\\n\\\\n珠穆朗玛峰的名字来源于藏语，“珠穆”意为女神，“朗玛”意为母仪天下，整体意为“大地之母”。这座山峰不仅在登山界享有盛誉，也是全球登山爱好者和探险\"},\n",
    "    {\"role\": \"user\", \"content\": \"一个句子总结\"}\n",
    "    \n",
    "]\n",
    "\n",
    "input_text = tokenizer.apply_chat_template(conversation=messages, tokenize=False, add_generation_prompt=True)\n",
    "print(json.dumps(input_text, ensure_ascii=False))"
   ]
  },
  {
   "cell_type": "code",
   "execution_count": 38,
   "id": "c07e9e5d-e63b-4964-9603-e8f749da2de3",
   "metadata": {},
   "outputs": [],
   "source": [
    "from langchain_core.runnables import RunnableLambda\n",
    "from langchain_core.runnables.config import RunnableConfig\n",
    "import time"
   ]
  },
  {
   "cell_type": "code",
   "execution_count": 39,
   "id": "b25bea7f-e16d-4a32-860f-b40e34534576",
   "metadata": {},
   "outputs": [],
   "source": [
    "text1 = \\\n",
    "\"\"\"你是一名小说家，热衷于创意写作和编写故事。 \n",
    "请帮我编写一个故事，对象是10-12岁的小学生\n",
    "故事背景：\n",
    "讲述一位名叫莉拉的年轻女子发现自己有控制天气的能力。她住在一个小镇上，每个人都互相认识。\n",
    "其他要求：\n",
    "-避免暴力，色情，粗俗的语言\n",
    "-长度要求不少于500字\n",
    "请开始：\n",
    "\"\"\""
   ]
  },
  {
   "cell_type": "code",
   "execution_count": 40,
   "id": "9627af8a-1106-42f9-9e83-4f57edd04edb",
   "metadata": {},
   "outputs": [],
   "source": [
    "max_new_tokens = 256\n",
    "def invoke_sagemaker(prompt,max_new_tokens):\n",
    "    # print('----start----')\n",
    "    messages = [\n",
    "    {\"role\": \"system\", \"content\": \"You are a helpful assistant.\"},\n",
    "    {\"role\": \"user\", \"content\": prompt}\n",
    "    ]\n",
    "    inputs = tokenizer.apply_chat_template(\n",
    "        messages,\n",
    "        tokenize=False,\n",
    "        add_generation_prompt=True\n",
    "    )\n",
    "    parameters = {\n",
    "            \"max_new_tokens\":max_new_tokens, \n",
    "            \"do_sample\": True,\n",
    "            \"repetition_penalty\": 1.05,\n",
    "            \"temperature\": 0.7,\n",
    "            \"top_p\": 0.8,\n",
    "            \"top_k\": 250\n",
    "        }\n",
    "    t1 =  time.time()\n",
    "    response = predictor.predict(\n",
    "        {\"inputs\": inputs, \"parameters\": parameters}\n",
    "    )\n",
    "    t2 = time.time() - t1\n",
    "    return response['generated_text'],t2\n",
    "    "
   ]
  },
  {
   "cell_type": "code",
   "execution_count": 41,
   "id": "dd21a949-c860-4e7f-8f4c-deebdce9ef7c",
   "metadata": {},
   "outputs": [
    {
     "name": "stdout",
     "output_type": "stream",
     "text": [
      "Maximum value: 9\n",
      "Average value: 4.666666666666667\n",
      "Median value: 4.0\n",
      "p90_val value: 9\n"
     ]
    }
   ],
   "source": [
    "import math\n",
    "def list_stats(lst):\n",
    "    # Calculate the maximum value\n",
    "    max_val = max(lst)\n",
    "\n",
    "    # Calculate the average value\n",
    "    avg_val = sum(lst) / len(lst)\n",
    "\n",
    "    # Sort the list to find the median\n",
    "    sorted_lst = sorted(lst)\n",
    "    n = len(sorted_lst)\n",
    "    # Calculate the median value\n",
    "    if n % 2 == 0:\n",
    "        # If the list has an even number of elements\n",
    "        median_val = (sorted_lst[n // 2 - 1] + sorted_lst[n // 2]) / 2\n",
    "    else:\n",
    "        # If the list has an odd number of elements\n",
    "        median_val = sorted_lst[n // 2]\n",
    "\n",
    "    p90_index = int(math.ceil(0.9 * n)) - 1\n",
    "    p90_val = sorted_lst[p90_index]\n",
    "    \n",
    "    return max_val, avg_val, median_val,p90_val\n",
    "my_list = [5, 2, 8, 1, 9, 3]\n",
    "max_val, avg_val, median_val,p90_val = list_stats(my_list)\n",
    "print(\"Maximum value:\", max_val)\n",
    "print(\"Average value:\", avg_val)\n",
    "print(\"Median value:\", median_val)\n",
    "print(\"p90_val value:\", p90_val)"
   ]
  },
  {
   "cell_type": "code",
   "execution_count": 42,
   "id": "6b9c2a59-2a8a-4e0a-ac8a-cbcb4c676846",
   "metadata": {},
   "outputs": [],
   "source": [
    "chain = RunnableLambda(invoke_sagemaker).bind(max_new_tokens=max_new_tokens)"
   ]
  },
  {
   "cell_type": "code",
   "execution_count": 43,
   "id": "9115de9c-a7b2-4000-b8c2-61d02ea43852",
   "metadata": {},
   "outputs": [
    {
     "data": {
      "text/plain": [
       "[('在一个被连绵山脉环抱的小镇，莉拉与她的祖父一同居住。这个镇上的人们彼此熟识，生活节奏悠然自得。莉拉是个好奇心旺盛的少女，她总是梦想着探索未知的奥秘。\\n\\n某天，莉拉在森林中漫步时，突然乌云密布，一场暴风雨即将来临。正当她急忙找寻避雨之处时，她发现自己竟能控制天气。她轻轻地挥动手臂，乌云便散去了，阳光再次洒满大地。这让她感到既惊奇又害怕。\\n\\n消息传遍了整个小镇，人们对此议论纷纷。有的认为这是奇迹，有的则觉得这是一种威胁。莉拉试图隐藏自己的能力，但不可避免地在一次偶然的机会中展示了出来。\\n\\n那是一个炎热的夏日午后，镇上的孩子们在河边玩耍。突然，河水上涨，一场突如其来的洪水威胁到了他们的安全。莉拉见状，毫不犹豫地使用她的力量，召唤来一阵清风，将孩子们安全地带离了危险。\\n\\n从此，莉拉成为了镇上的守护者。她学会了如何控制自己的力量，不仅保护了小镇免受自然灾害的侵袭，还帮助村民们解决了许多问题。无论是',\n",
       "  11.953031063079834)]"
      ]
     },
     "execution_count": 43,
     "metadata": {},
     "output_type": "execute_result"
    }
   ],
   "source": [
    "chain.batch([text1],config=config)"
   ]
  },
  {
   "cell_type": "code",
   "execution_count": 44,
   "id": "5a230a89-e588-4ca1-9705-ce3d8593ad38",
   "metadata": {},
   "outputs": [],
   "source": [
    "concurrent = [1,5,10,15,20,25,30,35,40,45,50]\n",
    "config = RunnableConfig(max_concurrency=max(concurrent))"
   ]
  },
  {
   "cell_type": "code",
   "execution_count": 45,
   "id": "a643fd23-3da0-4e07-8cf7-b3c42084c4e5",
   "metadata": {},
   "outputs": [
    {
     "name": "stdout",
     "output_type": "stream",
     "text": [
      "concurrent users:1, max time cost:11.77, average time cost:11.77, median cost:11.77, avg tokens/s:21.76,total avg throughput:21.76\n",
      "concurrent users:5, max time cost:14.49, average time cost:14.48, median cost:14.48, avg tokens/s:17.68,total avg throughput:88.39\n",
      "concurrent users:10, max time cost:16.65, average time cost:16.63, median cost:16.63, avg tokens/s:15.39,total avg throughput:153.91\n",
      "concurrent users:15, max time cost:17.39, average time cost:17.35, median cost:17.36, avg tokens/s:14.75,total avg throughput:221.28\n",
      "concurrent users:20, max time cost:19.25, average time cost:19.21, median cost:19.22, avg tokens/s:13.33,total avg throughput:266.59\n",
      "concurrent users:25, max time cost:20.90, average time cost:20.83, median cost:20.85, avg tokens/s:12.29,total avg throughput:307.29\n",
      "concurrent users:30, max time cost:21.69, average time cost:21.56, median cost:21.59, avg tokens/s:11.87,total avg throughput:356.23\n",
      "concurrent users:35, max time cost:34.32, average time cost:22.92, median cost:21.94, avg tokens/s:11.17,total avg throughput:390.94\n",
      "concurrent users:40, max time cost:36.50, average time cost:24.79, median cost:21.96, avg tokens/s:10.33,total avg throughput:413.08\n",
      "concurrent users:45, max time cost:38.64, average time cost:26.68, median cost:21.95, avg tokens/s:9.60,total avg throughput:431.84\n",
      "concurrent users:50, max time cost:40.51, average time cost:28.49, median cost:21.96, avg tokens/s:8.99,total avg throughput:449.29\n"
     ]
    }
   ],
   "source": [
    "results = []\n",
    "for n in concurrent:\n",
    "    res = chain.batch([text1]*n,config=config)\n",
    "    cost_lst = [ r[1] for r in res]\n",
    "    max_val, avg_val, median_val,p90_val = list_stats(cost_lst)\n",
    "    results.append([n,max_val, avg_val, median_val,p90_val,max_new_tokens/avg_val,n*max_new_tokens/avg_val])\n",
    "    print(f'concurrent users:{n}, max time cost:{max_val:.2f}, average time cost:{avg_val:.2f}, median cost:{median_val:.2f}, avg tokens/s:{max_new_tokens/avg_val:.2f},total avg throughput:{n*max_new_tokens/avg_val:.2f}')"
   ]
  },
  {
   "cell_type": "code",
   "execution_count": 46,
   "id": "9feeb03d-dcd8-4a40-8c2e-2b09f7a50d93",
   "metadata": {},
   "outputs": [
    {
     "data": {
      "text/html": [
       "<div>\n",
       "<style scoped>\n",
       "    .dataframe tbody tr th:only-of-type {\n",
       "        vertical-align: middle;\n",
       "    }\n",
       "\n",
       "    .dataframe tbody tr th {\n",
       "        vertical-align: top;\n",
       "    }\n",
       "\n",
       "    .dataframe thead th {\n",
       "        text-align: right;\n",
       "    }\n",
       "</style>\n",
       "<table border=\"1\" class=\"dataframe\">\n",
       "  <thead>\n",
       "    <tr style=\"text-align: right;\">\n",
       "      <th></th>\n",
       "      <th>concurrency</th>\n",
       "      <th>max_latency</th>\n",
       "      <th>avg_latency</th>\n",
       "      <th>p50_latency</th>\n",
       "      <th>p90_latency</th>\n",
       "      <th>avg_tokens/s</th>\n",
       "      <th>avg_throughput tokens/s</th>\n",
       "    </tr>\n",
       "  </thead>\n",
       "  <tbody>\n",
       "    <tr>\n",
       "      <th>0</th>\n",
       "      <td>1</td>\n",
       "      <td>11.766905</td>\n",
       "      <td>11.766905</td>\n",
       "      <td>11.766905</td>\n",
       "      <td>11.766905</td>\n",
       "      <td>21.755934</td>\n",
       "      <td>21.755934</td>\n",
       "    </tr>\n",
       "    <tr>\n",
       "      <th>1</th>\n",
       "      <td>5</td>\n",
       "      <td>14.493925</td>\n",
       "      <td>14.481182</td>\n",
       "      <td>14.484469</td>\n",
       "      <td>14.493925</td>\n",
       "      <td>17.678114</td>\n",
       "      <td>88.390572</td>\n",
       "    </tr>\n",
       "    <tr>\n",
       "      <th>2</th>\n",
       "      <td>10</td>\n",
       "      <td>16.652424</td>\n",
       "      <td>16.632565</td>\n",
       "      <td>16.630852</td>\n",
       "      <td>16.647479</td>\n",
       "      <td>15.391492</td>\n",
       "      <td>153.914922</td>\n",
       "    </tr>\n",
       "    <tr>\n",
       "      <th>3</th>\n",
       "      <td>15</td>\n",
       "      <td>17.392326</td>\n",
       "      <td>17.353449</td>\n",
       "      <td>17.357088</td>\n",
       "      <td>17.388788</td>\n",
       "      <td>14.752111</td>\n",
       "      <td>221.281663</td>\n",
       "    </tr>\n",
       "    <tr>\n",
       "      <th>4</th>\n",
       "      <td>20</td>\n",
       "      <td>19.253440</td>\n",
       "      <td>19.205175</td>\n",
       "      <td>19.221762</td>\n",
       "      <td>19.242933</td>\n",
       "      <td>13.329740</td>\n",
       "      <td>266.594807</td>\n",
       "    </tr>\n",
       "    <tr>\n",
       "      <th>5</th>\n",
       "      <td>25</td>\n",
       "      <td>20.900777</td>\n",
       "      <td>20.827110</td>\n",
       "      <td>20.854147</td>\n",
       "      <td>20.890134</td>\n",
       "      <td>12.291672</td>\n",
       "      <td>307.291801</td>\n",
       "    </tr>\n",
       "    <tr>\n",
       "      <th>6</th>\n",
       "      <td>30</td>\n",
       "      <td>21.694034</td>\n",
       "      <td>21.559359</td>\n",
       "      <td>21.591933</td>\n",
       "      <td>21.675483</td>\n",
       "      <td>11.874193</td>\n",
       "      <td>356.225800</td>\n",
       "    </tr>\n",
       "    <tr>\n",
       "      <th>7</th>\n",
       "      <td>35</td>\n",
       "      <td>34.322465</td>\n",
       "      <td>22.918862</td>\n",
       "      <td>21.942166</td>\n",
       "      <td>22.002966</td>\n",
       "      <td>11.169839</td>\n",
       "      <td>390.944364</td>\n",
       "    </tr>\n",
       "    <tr>\n",
       "      <th>8</th>\n",
       "      <td>40</td>\n",
       "      <td>36.495482</td>\n",
       "      <td>24.789393</td>\n",
       "      <td>21.960599</td>\n",
       "      <td>36.458731</td>\n",
       "      <td>10.326997</td>\n",
       "      <td>413.079897</td>\n",
       "    </tr>\n",
       "    <tr>\n",
       "      <th>9</th>\n",
       "      <td>45</td>\n",
       "      <td>38.636347</td>\n",
       "      <td>26.676410</td>\n",
       "      <td>21.950826</td>\n",
       "      <td>38.567999</td>\n",
       "      <td>9.596494</td>\n",
       "      <td>431.842218</td>\n",
       "    </tr>\n",
       "    <tr>\n",
       "      <th>10</th>\n",
       "      <td>50</td>\n",
       "      <td>40.514744</td>\n",
       "      <td>28.489293</td>\n",
       "      <td>21.964167</td>\n",
       "      <td>40.356991</td>\n",
       "      <td>8.985832</td>\n",
       "      <td>449.291592</td>\n",
       "    </tr>\n",
       "  </tbody>\n",
       "</table>\n",
       "</div>"
      ],
      "text/plain": [
       "    concurrency  max_latency  avg_latency  p50_latency  p90_latency  \\\n",
       "0             1    11.766905    11.766905    11.766905    11.766905   \n",
       "1             5    14.493925    14.481182    14.484469    14.493925   \n",
       "2            10    16.652424    16.632565    16.630852    16.647479   \n",
       "3            15    17.392326    17.353449    17.357088    17.388788   \n",
       "4            20    19.253440    19.205175    19.221762    19.242933   \n",
       "5            25    20.900777    20.827110    20.854147    20.890134   \n",
       "6            30    21.694034    21.559359    21.591933    21.675483   \n",
       "7            35    34.322465    22.918862    21.942166    22.002966   \n",
       "8            40    36.495482    24.789393    21.960599    36.458731   \n",
       "9            45    38.636347    26.676410    21.950826    38.567999   \n",
       "10           50    40.514744    28.489293    21.964167    40.356991   \n",
       "\n",
       "    avg_tokens/s  avg_throughput tokens/s  \n",
       "0      21.755934                21.755934  \n",
       "1      17.678114                88.390572  \n",
       "2      15.391492               153.914922  \n",
       "3      14.752111               221.281663  \n",
       "4      13.329740               266.594807  \n",
       "5      12.291672               307.291801  \n",
       "6      11.874193               356.225800  \n",
       "7      11.169839               390.944364  \n",
       "8      10.326997               413.079897  \n",
       "9       9.596494               431.842218  \n",
       "10      8.985832               449.291592  "
      ]
     },
     "execution_count": 46,
     "metadata": {},
     "output_type": "execute_result"
    }
   ],
   "source": [
    "import pandas as pd\n",
    "pd.DataFrame(results,columns=['concurrency','max_latency','avg_latency','p50_latency','p90_latency','avg_tokens/s','avg_throughput tokens/s'])"
   ]
  },
  {
   "cell_type": "code",
   "execution_count": 47,
   "id": "55e2dc09-760c-4450-b737-bbc734316f33",
   "metadata": {},
   "outputs": [],
   "source": [
    "import matplotlib.pyplot as plt"
   ]
  },
  {
   "cell_type": "code",
   "execution_count": 48,
   "id": "69b850ea-c79c-4871-9bc0-cf1a8a064bef",
   "metadata": {},
   "outputs": [],
   "source": [
    "# 从二维数组中提取列\n",
    "x = [row[0] for row in results]  \n",
    "y1 = [row[1] for row in results]  \n",
    "y2 = [row[2] for row in results]  \n",
    "y3 = [row[3] for row in results]  \n",
    "y4 = [row[4] for row in results]  \n",
    "y5 = [row[5] for row in results]  \n",
    "y6 = [row[6] for row in results]  "
   ]
  },
  {
   "cell_type": "code",
   "execution_count": 49,
   "id": "2a7070d5-ae76-4d76-8a33-032ce5daa80b",
   "metadata": {},
   "outputs": [
    {
     "data": {
      "image/png": "[encoded data removed]",
      "text/plain": [
       "<Figure size 800x1800 with 5 Axes>"
      ]
     },
     "metadata": {},
     "output_type": "display_data"
    }
   ],
   "source": [
    "# 创建图形\n",
    "fig, axs = plt.subplots(5, 1, figsize=(8, 18))\n",
    "\n",
    "# 绘制第avg timecost\n",
    "axs[0].plot(x, y2)\n",
    "axs[0].set_title('concurrency vs avg latency')\n",
    "axs[0].set_xlabel('concurrency')\n",
    "axs[0].set_ylabel('avg latency')\n",
    "\n",
    "# 绘制第一列与第三列的关系\n",
    "axs[1].plot(x, y3)\n",
    "axs[1].set_title('concurrency vs p50 latency')\n",
    "axs[1].set_xlabel('concurrency')\n",
    "axs[1].set_ylabel('p50 latency')\n",
    "\n",
    "# 绘制第一列与第四列的关系\n",
    "axs[2].plot(x, y4)\n",
    "axs[2].set_title('concurrency vs p90 latency')\n",
    "axs[2].set_xlabel('concurrency')\n",
    "axs[2].set_ylabel('p90 latency')\n",
    "\n",
    "# 绘制第一列与第四列的关系\n",
    "axs[3].plot(x, y5)\n",
    "axs[3].set_title('concurrency vs avg tokens/s')\n",
    "axs[3].set_xlabel('concurrency')\n",
    "axs[3].set_ylabel('avg tokens/s')\n",
    "\n",
    "\n",
    "# 绘制第一列与第四列的关系\n",
    "axs[4].plot(x, y6)\n",
    "axs[4].set_title('concurrency vs throughput tokens/s')\n",
    "axs[4].set_xlabel('concurrency')\n",
    "axs[4].set_ylabel('throughput tokens/s')\n",
    "\n",
    "# 调整子图之间的间距\n",
    "plt.subplots_adjust(hspace=0.5)\n",
    "\n",
    "# 显示图形\n",
    "plt.show()"
   ]
  },
  {
   "cell_type": "code",
   "execution_count": null,
   "id": "82f17c9b-f4a7-480c-a8cd-08dc2ea27d02",
   "metadata": {},
   "outputs": [],
   "source": []
  },
  {
   "cell_type": "code",
   "execution_count": null,
   "id": "32c0df92-1d03-48d4-b360-6ce668dd4dde",
   "metadata": {},
   "outputs": [],
   "source": []
  },
  {
   "cell_type": "code",
   "execution_count": null,
   "id": "d2b754e5-4873-40a0-b92b-d1770d99988e",
   "metadata": {},
   "outputs": [],
   "source": []
  },
  {
   "cell_type": "code",
   "execution_count": null,
   "id": "1dcc41e2-4967-4f5e-b08f-98f2d8cc5992",
   "metadata": {},
   "outputs": [],
   "source": []
  },
  {
   "cell_type": "markdown",
   "id": "c1cd9042",
   "metadata": {},
   "source": [
    "## Clean up the environment"
   ]
  },
  {
   "cell_type": "code",
   "execution_count": 29,
   "id": "3d674b41",
   "metadata": {
    "tags": []
   },
   "outputs": [],
   "source": [
    "sess.delete_endpoint(endpoint_name)\n",
    "sess.delete_endpoint_config(endpoint_name)\n",
    "model.delete_model()"
   ]
  },
  {
   "cell_type": "code",
   "execution_count": null,
   "id": "781462bd-3971-491a-bfa6-c6e5c9539932",
   "metadata": {},
   "outputs": [],
   "source": []
  }
 ],
 "metadata": {
  "kernelspec": {
   "display_name": "Python 3 (ipykernel)",
   "language": "python",
   "name": "python3"
  },
  "language_info": {
   "codemirror_mode": {
    "name": "ipython",
    "version": 3
   },
   "file_extension": ".py",
   "mimetype": "text/x-python",
   "name": "python",
   "nbconvert_exporter": "python",
   "pygments_lexer": "ipython3",
   "version": "3.10.14"
  }
 },
 "nbformat": 4,
 "nbformat_minor": 5
}
